{
 "cells": [
  {
   "cell_type": "code",
   "execution_count": 1,
   "id": "3c8ab114",
   "metadata": {},
   "outputs": [],
   "source": [
    "import sys\n",
    "\n",
    "import rebound\n",
    "\n",
    "# change the next line to reflect where you have downloaded the source code\n",
    "sys.path.insert(0, \"/Users/kvolk/Documents/GitHub/SBDynT/src\")\n",
    "import sbdynt as sbd"
   ]
  },
  {
   "cell_type": "markdown",
   "id": "00ac8c01-cd4e-4b0e-9f6d-69e477da7aa3",
   "metadata": {},
   "source": [
    "**Example of setting up an integration based on an orbit fit from find_orb:**"
   ]
  },
  {
   "cell_type": "code",
   "execution_count": 4,
   "id": "5d3f5925",
   "metadata": {},
   "outputs": [
    {
     "name": "stdout",
     "output_type": "stream",
     "text": [
      "Added heliocentric orbit: \n",
      "a= 39.40609718926083\n",
      "e= 0.1912138804260118\n",
      "i= 0.1279988198070029\n",
      "node= -2.3766713138417384\n",
      "aperi= 3.0339778695017916\n",
      "mean anomaly= 0.15683745721351627\n"
     ]
    }
   ],
   "source": [
    "obj_name = \"example\"\n",
    "# Find_orb orbital elements:\n",
    "epoch = 2457217.5\n",
    "a = 39.4060972335126  # (semimajor axis in au)\n",
    "ec = 0.19121388131996062  # (eccentricity)\n",
    "inc = 0.1279988198070029  # radians! (inclination relative to the ecliptic)\n",
    "node = -2.3766713138417384  # radians! (longitude of ascending node)\n",
    "argperi = 3.033977870435759  # radians! (argument of pericenter)\n",
    "ma = 0.15683745626851575  # radians! (mean anomaly)\n",
    "\n",
    "flag, sim = sbd.initialize_from_heliocentric_Find_Orb_orbit(\n",
    "    des=obj_name,\n",
    "    a=a,\n",
    "    e=ec,\n",
    "    inc=inc,\n",
    "    node=node,\n",
    "    aperi=argperi,\n",
    "    ma=ma,\n",
    "    planets=[\"all\"],\n",
    "    epoch=epoch,\n",
    ")\n",
    "\n",
    "\n",
    "helio_orbit = sim.particles[obj_name].orbit(sim.particles[0])\n",
    "\n",
    "print(\"Added heliocentric orbit: \")\n",
    "print(\"a=\", helio_orbit.a)\n",
    "print(\"e=\", helio_orbit.e)\n",
    "print(\"i=\", helio_orbit.inc)\n",
    "print(\"node=\", helio_orbit.Omega)\n",
    "print(\"aperi=\", helio_orbit.omega)\n",
    "print(\"mean anomaly=\", helio_orbit.M)"
   ]
  },
  {
   "cell_type": "markdown",
   "id": "4eaa2b0b-8e0d-4f88-ae56-3d999108e490",
   "metadata": {},
   "source": [
    "**Note** that there are tiny difference between the provided find_orb elements and those in the final simulation. This is because there is actually a slight difference between the masses for the Sun and planets in JPL's database and what's assumed in the find_orb code. We choose to account for this by converting the find_orb elements to heliocentric cartesian positions and velocities using find_orb's GM for the Sun and then adding the particles to the rebound simulation (which uses JPL's masses for everything) in cartesian space. Both sets of orbital elements represent the same cartesian positions and velocities. \n",
    "\n",
    "Additional small differences between input and output elements will occur if only a subset of the planets are included because we account for the missing planet masses. "
   ]
  },
  {
   "cell_type": "markdown",
   "id": "cde97f88-f3ad-4d0c-89f0-e2a8b680e1fc",
   "metadata": {},
   "source": [
    "**NOTE**: you can initialize clones generaged by Find_Orb by passing orbital element arrays (e.g., a = [39.4,39.41,...]) rather\n",
    "than single element values to sbd.**initialize_from_heliocentric_Find_Orb_orbit**"
   ]
  },
  {
   "cell_type": "code",
   "execution_count": null,
   "id": "b0737cd4-130b-41ee-bf77-7de1761c19bd",
   "metadata": {},
   "outputs": [],
   "source": []
  }
 ],
 "metadata": {
  "kernelspec": {
   "display_name": "Python 3 (ipykernel)",
   "language": "python",
   "name": "python3"
  },
  "language_info": {
   "codemirror_mode": {
    "name": "ipython",
    "version": 3
   },
   "file_extension": ".py",
   "mimetype": "text/x-python",
   "name": "python",
   "nbconvert_exporter": "python",
   "pygments_lexer": "ipython3",
   "version": "3.11.9"
  }
 },
 "nbformat": 4,
 "nbformat_minor": 5
}
