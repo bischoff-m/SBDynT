{
 "cells": [
  {
   "cell_type": "code",
   "execution_count": null,
   "id": "9459bb0b",
   "metadata": {},
   "outputs": [],
   "source": [
    "import sys\n",
    "#change the next line to reflect where you have downloaded the source code\n",
    "sys.path.insert(0, '/Users/kvolk/Documents/GitHub/SBDynT/src')\n",
    "import sbdynt as sbd"
   ]
  },
  {
   "cell_type": "markdown",
   "id": "572c38ca",
   "metadata": {},
   "source": [
    "# **Functions that query JPL services for small bodies and planets**"
   ]
  },
  {
   "cell_type": "markdown",
   "id": "cd906f23",
   "metadata": {},
   "source": [
    "**Querying the JPL small body database**: querying a small body's orbit from JPL's small body databse returns a flag \n",
    "(1 for sucess, 0 for failure), the epoch, and the heliocentric cartesian coordinates \n",
    "for the best fit plus however many clones is specified"
   ]
  },
  {
   "cell_type": "code",
   "execution_count": null,
   "id": "228f53da",
   "metadata": {},
   "outputs": [],
   "source": [
    "#example with no clones\n",
    "sbody = 'K14X40T'\n",
    "(flag, epoch, x,y,z,vx,vy,vz) = sbd.query_sb_from_jpl(des=sbody,clones=0)\n",
    "if(flag):\n",
    "    print(\"queried %s and returned at epoch %f\" % (sbody,epoch))\n",
    "    print(\"cartesian heliocentric position (au), velocity (au/year):\\n %e %e %e\\n %e %e %e\" % (x,y,z,vx,vy,vz))"
   ]
  },
  {
   "cell_type": "code",
   "execution_count": null,
   "id": "2c68b95c",
   "metadata": {},
   "outputs": [],
   "source": [
    "#example with no clones\n",
    "sbody = '1995 A1'\n",
    "#sbody = '10273'\n",
    "\n",
    "(flag, epoch, x,y,z,vx,vy,vz) = sbd.query_sb_from_jpl(des=sbody,clones=0)\n",
    "if(flag):\n",
    "    print(\"queried %s and returned at epoch %f\" % (sbody,epoch))\n",
    "    print(\"cartesian heliocentric position (au), velocity (au/year):\\n %e %e %e\\n %e %e %e\" % (x,y,z,vx,vy,vz))\n",
    "    \n",
    "(flag, x,y,z,vx,vy,vz) = sbd.query_sb_from_horizons(des=sbody,epoch=epoch)\n",
    "if(flag):\n",
    "    print(\"queried %s and returned at epoch %f\" % (sbody,epoch))\n",
    "    print(\"cartesian heliocentric position (au), velocity (au/year):\\n %e %e %e\\n %e %e %e\" % (x,y,z,vx,vy,vz))"
   ]
  },
  {
   "cell_type": "code",
   "execution_count": null,
   "id": "692f29e2",
   "metadata": {},
   "outputs": [],
   "source": [
    "#example with no clones\n",
    "sbody = '179P/Jedicke3'\n",
    "#sbody = '10273'\n",
    "\n",
    "(flag, epoch, x,y,z,vx,vy,vz) = sbd.query_sb_from_jpl(des=sbody,clones=0)\n",
    "if(flag):\n",
    "    print(\"queried %s and returned at epoch %f\" % (sbody,epoch))\n",
    "    print(\"cartesian heliocentric position (au), velocity (au/year):\\n %e %e %e\\n %e %e %e\" % (x,y,z,vx,vy,vz))\n",
    "    \n",
    "(flag, x,y,z,vx,vy,vz) = sbd.query_sb_from_horizons(des=sbody,epoch=epoch)\n",
    "if(flag):\n",
    "    print(\"queried %s and returned at epoch %f\" % (sbody,epoch))\n",
    "    print(\"cartesian heliocentric position (au), velocity (au/year):\\n %e %e %e\\n %e %e %e\" % (x,y,z,vx,vy,vz))"
   ]
  },
  {
   "cell_type": "code",
   "execution_count": null,
   "id": "0f7e3515",
   "metadata": {},
   "outputs": [],
   "source": [
    "# example with 5 clones, \n",
    "# the first index on the returned variables is best fit, \n",
    "# followed by 5 clones sampled from the covariance matrix\n",
    "\n",
    "clones = 5\n",
    "(flag, epoch, tpx,tpy,tpz,tpvx,tpvy,tpvz) = sbd.query_sb_from_jpl(des=sbody,clones=clones)\n",
    "if(flag):\n",
    "    print(\"queried %s and returned at epoch %f\" % (sbody,epoch))\n",
    "    print(\"cartesian heliocentric position (au), velocity (au/year)\")\n",
    "    print(\"best-fit orbit:\")\n",
    "    i=0\n",
    "    print(6*\"%15.8e \" % (tpx[i],tpy[i],tpz[i],tpvx[i],tpvy[i],tpvz[i]))\n",
    "    print(\"cloned orbits:\")\n",
    "    for i in range (1,clones):\n",
    "        print(6*\"%15.8e \" % (tpx[i],tpy[i],tpz[i],tpvx[i],tpvy[i],tpvz[i]))"
   ]
  },
  {
   "cell_type": "markdown",
   "id": "05c43f91",
   "metadata": {},
   "source": [
    "**If you want just a best-fit orbit at a specific epoch for one or more \n",
    "small bodies, you can query JPL Horizons instead** (it is currently not possible\n",
    "to add clones at a specific epoch or for multiple objects at once due to the\n",
    "fact that the covariance matrix for each object is at a non-use-determined\n",
    "eopch that differs for each small body. We plan to add this capability at a \n",
    "later date by integrating bodies to a common epoch after cloning)\n",
    "\n",
    "\n",
    "Note that this will not exactly match the position above because often\n",
    "Horizons uses a different orbit-fit than the small body database"
   ]
  },
  {
   "cell_type": "code",
   "execution_count": null,
   "id": "7779933b",
   "metadata": {},
   "outputs": [],
   "source": [
    "# single object example\n",
    "sbody = 'K14X40T'\n",
    "epoch=2457019.5\n",
    "(flag, xbf,ybf,zbf,vxbf,vybf,vzbf) = sbd.query_sb_from_horizons(des=sbody, epoch=epoch)\n",
    "if(flag):\n",
    "    print(\"queried %s and returned at epoch %f\" % (sbody,epoch))\n",
    "    print(\"cartesian heliocentric position (au), velocity (au/year)\")\n",
    "    print(3*\"%15.8e \" % (xbf,ybf,zbf))\n",
    "    print(3*\"%15.8e \" % (vxbf,vybf,vzbf))\n",
    "print(\"\\n\")\n",
    "\n"
   ]
  },
  {
   "cell_type": "code",
   "execution_count": null,
   "id": "8441472e",
   "metadata": {},
   "outputs": [],
   "source": [
    "# multiple objects example\n",
    "# note that designations can be packed, unpacked, numbers, comets, etc\n",
    "list_of_sbodies = ['K14X40T','2016 SW50', '15760','29P','179P/Jedicke']\n",
    "epoch=2457019.5\n",
    "ntp = len(list_of_sbodies)\n",
    "(flag, x,y,z,vx,vy,vz) = sbd.query_sb_from_horizons(des=list_of_sbodies, epoch=epoch)\n",
    "if(flag):\n",
    "    for n in range(0,ntp):\n",
    "        print()\n",
    "        print(\"queried %s and returned at epoch %f\" % (list_of_sbodies[n],epoch))\n",
    "        print(\"cartesian heliocentric position (au), velocity (au/year)\")\n",
    "        print(3*\"%15.8e \" % (x[n],y[n],z[n]))\n",
    "        print(3*\"%15.8e \" % (vx[n],vy[n],vz[n]))"
   ]
  },
  {
   "cell_type": "markdown",
   "id": "8687c110",
   "metadata": {},
   "source": [
    "**You can also query the planet properties and positions for the epoch \n",
    "returned by the small body's orbit query (showing just Jupiter as an example)**"
   ]
  },
  {
   "cell_type": "code",
   "execution_count": null,
   "id": "017f94d9",
   "metadata": {},
   "outputs": [],
   "source": [
    "planet = 'jupiter' #not case sensitive\n",
    "epoch=2457019.5\n",
    "(flag, mass, radius, [plx,ply,plz],[plvx,plvy,plvz]) = sbd.query_horizons_planets(obj=planet,epoch=epoch)\n",
    "if(flag):\n",
    "    print(\"queried %s and returned at epoch %f\" % (planet,epoch))\n",
    "    print(\"mass (solar masses) %e and radius (au) %e\" % (mass,radius))\n",
    "    print(\"cartesian heliocentric position (au), velocity (au/year)\")\n",
    "    print(3*\"%15.8e \" % (plx,ply,plz))\n",
    "    print(3*\"%15.8e \" % (plvx,plvy,plvz))"
   ]
  },
  {
   "cell_type": "code",
   "execution_count": null,
   "id": "7a03447f",
   "metadata": {},
   "outputs": [],
   "source": []
  }
 ],
 "metadata": {
  "kernelspec": {
   "display_name": "Python 3 (ipykernel)",
   "language": "python",
   "name": "python3"
  },
  "language_info": {
   "codemirror_mode": {
    "name": "ipython",
    "version": 3
   },
   "file_extension": ".py",
   "mimetype": "text/x-python",
   "name": "python",
   "nbconvert_exporter": "python",
   "pygments_lexer": "ipython3",
   "version": "3.11.6"
  }
 },
 "nbformat": 4,
 "nbformat_minor": 5
}
