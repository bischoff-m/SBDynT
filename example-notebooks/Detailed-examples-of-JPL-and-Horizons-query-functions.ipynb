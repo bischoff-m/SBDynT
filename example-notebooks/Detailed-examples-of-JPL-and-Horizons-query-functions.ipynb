{
 "cells": [
  {
   "cell_type": "code",
   "execution_count": 1,
   "id": "9459bb0b",
   "metadata": {},
   "outputs": [],
   "source": [
    "import sys\n",
    "#change the next line to reflect where you have downloaded the source code\n",
    "sys.path.insert(0, '/Users/kvolk/Documents/GitHub/SBDynT/src')\n",
    "import sbdynt as sbd"
   ]
  },
  {
   "cell_type": "markdown",
   "id": "572c38ca",
   "metadata": {},
   "source": [
    "# **Functions that query JPL services for small bodies and planets**"
   ]
  },
  {
   "cell_type": "markdown",
   "id": "cd906f23",
   "metadata": {},
   "source": [
    "**Querying the JPL small body database**: querying a small body's orbit from JPL's small body databse returns a flag \n",
    "(1 for sucess, 0 for failure), the epoch, and the heliocentric cartesian coordinates \n",
    "for the best fit plus however many clones is specified"
   ]
  },
  {
   "cell_type": "code",
   "execution_count": 2,
   "id": "228f53da",
   "metadata": {},
   "outputs": [
    {
     "name": "stdout",
     "output_type": "stream",
     "text": [
      "queried K14X40T and returned at epoch 2457217.500000\n",
      "cartesian heliocentric position (au), velocity (au/year):\n",
      " 2.011957e+01 2.489066e+01 -5.175446e-01\n",
      " -9.073906e-01 7.857473e-01 -1.539433e-01\n"
     ]
    }
   ],
   "source": [
    "#example with no clones\n",
    "sbody = 'K14X40T'\n",
    "(flag, epoch, x,y,z,vx,vy,vz) = sbd.query_sb_from_jpl(des=sbody,clones=0)\n",
    "if(flag):\n",
    "    print(\"queried %s and returned at epoch %f\" % (sbody,epoch))\n",
    "    print(\"cartesian heliocentric position (au), velocity (au/year):\\n %e %e %e\\n %e %e %e\" % (x,y,z,vx,vy,vz))"
   ]
  },
  {
   "cell_type": "code",
   "execution_count": 3,
   "id": "2c68b95c",
   "metadata": {},
   "outputs": [
    {
     "name": "stdout",
     "output_type": "stream",
     "text": [
      "queried 1995 A1 and returned at epoch 2456832.500000\n",
      "cartesian heliocentric position (au), velocity (au/year):\n",
      " -5.294311e+00 -5.018355e+00 2.507462e+00\n",
      " 1.151957e+00 -1.495767e+00 -1.412780e-01\n",
      "queried 1995 A1 and returned at epoch 2456832.500000\n",
      "cartesian heliocentric position (au), velocity (au/year):\n",
      " -5.294311e+00 -5.018355e+00 2.507462e+00\n",
      " 1.151957e+00 -1.495767e+00 -1.412780e-01\n"
     ]
    }
   ],
   "source": [
    "#example with no clones\n",
    "sbody = '1995 A1'\n",
    "#sbody = '10273'\n",
    "\n",
    "(flag, epoch, x,y,z,vx,vy,vz) = sbd.query_sb_from_jpl(des=sbody,clones=0)\n",
    "if(flag):\n",
    "    print(\"queried %s and returned at epoch %f\" % (sbody,epoch))\n",
    "    print(\"cartesian heliocentric position (au), velocity (au/year):\\n %e %e %e\\n %e %e %e\" % (x,y,z,vx,vy,vz))\n",
    "    \n",
    "(flag, x,y,z,vx,vy,vz) = sbd.query_sb_from_horizons(des=sbody,epoch=epoch)\n",
    "if(flag):\n",
    "    print(\"queried %s and returned at epoch %f\" % (sbody,epoch))\n",
    "    print(\"cartesian heliocentric position (au), velocity (au/year):\\n %e %e %e\\n %e %e %e\" % (x,y,z,vx,vy,vz))"
   ]
  },
  {
   "cell_type": "code",
   "execution_count": 4,
   "id": "692f29e2",
   "metadata": {},
   "outputs": [
    {
     "name": "stdout",
     "output_type": "stream",
     "text": [
      "queried 179P/Jedicke3 and returned at epoch 2456832.500000\n",
      "cartesian heliocentric position (au), velocity (au/year):\n",
      " -5.294311e+00 -5.018355e+00 2.507462e+00\n",
      " 1.151957e+00 -1.495767e+00 -1.412780e-01\n",
      "queried 179P/Jedicke3 and returned at epoch 2456832.500000\n",
      "cartesian heliocentric position (au), velocity (au/year):\n",
      " -5.294311e+00 -5.018355e+00 2.507462e+00\n",
      " 1.151957e+00 -1.495767e+00 -1.412780e-01\n"
     ]
    }
   ],
   "source": [
    "#example with no clones\n",
    "sbody = '179P/Jedicke3'\n",
    "#sbody = '10273'\n",
    "\n",
    "(flag, epoch, x,y,z,vx,vy,vz) = sbd.query_sb_from_jpl(des=sbody,clones=0)\n",
    "if(flag):\n",
    "    print(\"queried %s and returned at epoch %f\" % (sbody,epoch))\n",
    "    print(\"cartesian heliocentric position (au), velocity (au/year):\\n %e %e %e\\n %e %e %e\" % (x,y,z,vx,vy,vz))\n",
    "    \n",
    "(flag, x,y,z,vx,vy,vz) = sbd.query_sb_from_horizons(des=sbody,epoch=epoch)\n",
    "if(flag):\n",
    "    print(\"queried %s and returned at epoch %f\" % (sbody,epoch))\n",
    "    print(\"cartesian heliocentric position (au), velocity (au/year):\\n %e %e %e\\n %e %e %e\" % (x,y,z,vx,vy,vz))"
   ]
  },
  {
   "cell_type": "code",
   "execution_count": 5,
   "id": "0f7e3515",
   "metadata": {},
   "outputs": [
    {
     "name": "stdout",
     "output_type": "stream",
     "text": [
      "queried 179P/Jedicke3 and returned at epoch 2456832.500000\n",
      "cartesian heliocentric position (au), velocity (au/year)\n",
      "best-fit orbit:\n",
      "-5.29431126e+00 -5.01835543e+00  2.50746217e+00  1.15195703e+00 -1.49576697e+00 -1.41278031e-01 \n",
      "cloned orbits:\n",
      "-5.29431096e+00 -5.01835873e+00  2.50745858e+00  1.15195745e+00 -1.49576634e+00 -1.41277717e-01 \n",
      "-5.29431122e+00 -5.01835637e+00  2.50746191e+00  1.15195706e+00 -1.49576677e+00 -1.41277566e-01 \n",
      "-5.29431851e+00 -5.01834804e+00  2.50746154e+00  1.15195557e+00 -1.49576819e+00 -1.41277468e-01 \n",
      "-5.29430619e+00 -5.01835882e+00  2.50746464e+00  1.15195792e+00 -1.49576644e+00 -1.41278513e-01 \n"
     ]
    }
   ],
   "source": [
    "# example with 5 clones, \n",
    "# the first index on the returned variables is best fit, \n",
    "# followed by 5 clones sampled from the covariance matrix\n",
    "\n",
    "clones = 5\n",
    "(flag, epoch, tpx,tpy,tpz,tpvx,tpvy,tpvz) = sbd.query_sb_from_jpl(des=sbody,clones=clones)\n",
    "if(flag):\n",
    "    print(\"queried %s and returned at epoch %f\" % (sbody,epoch))\n",
    "    print(\"cartesian heliocentric position (au), velocity (au/year)\")\n",
    "    print(\"best-fit orbit:\")\n",
    "    i=0\n",
    "    print(6*\"%15.8e \" % (tpx[i],tpy[i],tpz[i],tpvx[i],tpvy[i],tpvz[i]))\n",
    "    print(\"cloned orbits:\")\n",
    "    for i in range (1,clones):\n",
    "        print(6*\"%15.8e \" % (tpx[i],tpy[i],tpz[i],tpvx[i],tpvy[i],tpvz[i]))"
   ]
  },
  {
   "cell_type": "markdown",
   "id": "05c43f91",
   "metadata": {},
   "source": [
    "**If you want just a best-fit orbit at a specific epoch for one or more \n",
    "small bodies, you can query JPL Horizons instead** (it is currently not possible\n",
    "to add clones at a specific epoch or for multiple objects at once due to the\n",
    "fact that the covariance matrix for each object is at a non-use-determined\n",
    "eopch that differs for each small body. We plan to add this capability at a \n",
    "later date by integrating bodies to a common epoch after cloning)\n",
    "\n",
    "\n",
    "Note that this will not exactly match the position above because often\n",
    "Horizons uses a different orbit-fit than the small body database"
   ]
  },
  {
   "cell_type": "code",
   "execution_count": 6,
   "id": "7779933b",
   "metadata": {},
   "outputs": [
    {
     "name": "stdout",
     "output_type": "stream",
     "text": [
      "queried K14X40T and returned at epoch 2457019.500000\n",
      "cartesian heliocentric position (au), velocity (au/year)\n",
      " 2.06080464e+01  2.44602344e+01 -4.34010126e-01 \n",
      "-8.94696928e-01  8.02275420e-01 -1.54241499e-01 \n",
      "\n",
      "\n"
     ]
    }
   ],
   "source": [
    "# single object example\n",
    "sbody = 'K14X40T'\n",
    "epoch=2457019.5\n",
    "(flag, xbf,ybf,zbf,vxbf,vybf,vzbf) = sbd.query_sb_from_horizons(des=sbody, epoch=epoch)\n",
    "if(flag):\n",
    "    print(\"queried %s and returned at epoch %f\" % (sbody,epoch))\n",
    "    print(\"cartesian heliocentric position (au), velocity (au/year)\")\n",
    "    print(3*\"%15.8e \" % (xbf,ybf,zbf))\n",
    "    print(3*\"%15.8e \" % (vxbf,vybf,vzbf))\n",
    "print(\"\\n\")\n",
    "\n"
   ]
  },
  {
   "cell_type": "code",
   "execution_count": 7,
   "id": "8441472e",
   "metadata": {},
   "outputs": [
    {
     "name": "stdout",
     "output_type": "stream",
     "text": [
      "\n",
      "queried K14X40T and returned at epoch 2457019.500000\n",
      "cartesian heliocentric position (au), velocity (au/year)\n",
      " 2.06080464e+01  2.44602344e+01 -4.34010126e-01 \n",
      "-8.94696928e-01  8.02275420e-01 -1.54241499e-01 \n",
      "\n",
      "queried 2016 SW50 and returned at epoch 2457019.500000\n",
      "cartesian heliocentric position (au), velocity (au/year)\n",
      " 3.03507298e+01  1.54114154e+01 -1.21830433e+01 \n",
      "-4.30637890e-01  1.06543484e+00  5.67813014e-01 \n",
      "\n",
      "queried 15760 and returned at epoch 2457019.500000\n",
      "cartesian heliocentric position (au), velocity (au/year)\n",
      " 3.51679007e+01  2.14900270e+01  8.33927151e-01 \n",
      "-5.00071912e-01  8.74610680e-01  3.32892176e-02 \n",
      "\n",
      "queried 29P and returned at epoch 2457019.500000\n",
      "cartesian heliocentric position (au), velocity (au/year)\n",
      "-1.68501340e+00 -5.78274844e+00 -8.49470774e-01 \n",
      " 2.43990351e+00 -6.37653588e-01  2.26432820e-01 \n",
      "\n",
      "queried 179P/Jedicke and returned at epoch 2457019.500000\n",
      "cartesian heliocentric position (au), velocity (au/year)\n",
      "-4.64751037e+00 -5.72544242e+00  2.40730631e+00 \n",
      " 1.36943224e+00 -1.26189670e+00 -2.48947504e-01 \n"
     ]
    }
   ],
   "source": [
    "# multiple objects example\n",
    "# note that designations can be packed, unpacked, numbers, comets, etc\n",
    "list_of_sbodies = ['K14X40T','2016 SW50', '15760','29P','179P/Jedicke']\n",
    "epoch=2457019.5\n",
    "ntp = len(list_of_sbodies)\n",
    "(flag, x,y,z,vx,vy,vz) = sbd.query_sb_from_horizons(des=list_of_sbodies, epoch=epoch)\n",
    "if(flag):\n",
    "    for n in range(0,ntp):\n",
    "        print()\n",
    "        print(\"queried %s and returned at epoch %f\" % (list_of_sbodies[n],epoch))\n",
    "        print(\"cartesian heliocentric position (au), velocity (au/year)\")\n",
    "        print(3*\"%15.8e \" % (x[n],y[n],z[n]))\n",
    "        print(3*\"%15.8e \" % (vx[n],vy[n],vz[n]))"
   ]
  },
  {
   "cell_type": "markdown",
   "id": "8687c110",
   "metadata": {},
   "source": [
    "**You can also query the planet properties and positions for the epoch \n",
    "returned by the small body's orbit query (showing just Jupiter as an example)**"
   ]
  },
  {
   "cell_type": "code",
   "execution_count": 8,
   "id": "017f94d9",
   "metadata": {},
   "outputs": [
    {
     "name": "stdout",
     "output_type": "stream",
     "text": [
      "queried jupiter and returned at epoch 2457019.500000\n",
      "mass (solar masses) 9.547919e-04 and radius (au) 4.778945e-04\n",
      "cartesian heliocentric position (au), velocity (au/year)\n",
      "-3.70760331e+00  3.81380893e+00  6.71243900e-02 \n",
      "-2.01106301e+00 -1.79277124e+00  5.24449611e-02 \n"
     ]
    }
   ],
   "source": [
    "planet = 'jupiter' #not case sensitive\n",
    "epoch=2457019.5\n",
    "(flag, mass, radius, [plx,ply,plz],[plvx,plvy,plvz]) = sbd.query_horizons_planets(obj=planet,epoch=epoch)\n",
    "if(flag):\n",
    "    print(\"queried %s and returned at epoch %f\" % (planet,epoch))\n",
    "    print(\"mass (solar masses) %e and radius (au) %e\" % (mass,radius))\n",
    "    print(\"cartesian heliocentric position (au), velocity (au/year)\")\n",
    "    print(3*\"%15.8e \" % (plx,ply,plz))\n",
    "    print(3*\"%15.8e \" % (plvx,plvy,plvz))"
   ]
  },
  {
   "cell_type": "code",
   "execution_count": null,
   "id": "7a03447f",
   "metadata": {},
   "outputs": [],
   "source": []
  }
 ],
 "metadata": {
  "kernelspec": {
   "display_name": "Python 3 (ipykernel)",
   "language": "python",
   "name": "python3"
  },
  "language_info": {
   "codemirror_mode": {
    "name": "ipython",
    "version": 3
   },
   "file_extension": ".py",
   "mimetype": "text/x-python",
   "name": "python",
   "nbconvert_exporter": "python",
   "pygments_lexer": "ipython3",
   "version": "3.11.6"
  }
 },
 "nbformat": 4,
 "nbformat_minor": 5
}
