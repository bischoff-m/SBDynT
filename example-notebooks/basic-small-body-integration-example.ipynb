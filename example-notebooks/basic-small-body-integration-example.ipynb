{
 "cells": [
  {
   "cell_type": "code",
   "execution_count": 1,
   "id": "e2edb8d7",
   "metadata": {},
   "outputs": [],
   "source": [
    "import rebound\n",
    "import sys\n",
    "#change the next line to reflect where you have downloaded the source code\n",
    "sys.path.insert(0, '/Users/kvolk/Documents/GitHub/SBDynT/src')\n",
    "import sbdynt as sbd\n"
   ]
  },
  {
   "cell_type": "markdown",
   "id": "ba08d2cd",
   "metadata": {},
   "source": [
    "# *Tools to directly set up a rebound integration from JPL orbit fits*\n",
    "These routines use JPL's small body database to pull best-fit orbits and (if you want clones) an orbit-fit  covariance matrix for a small body given its designation and initializes a rebound simulation instance with that object and the sun and planets for the epoch of the orbit fit \n",
    "\n",
    "see detailed-examples-of-JPL-and-Horizons-query-functions.ipynb for details on the JPL queries"
   ]
  },
  {
   "cell_type": "markdown",
   "id": "99bbb167",
   "metadata": {},
   "source": [
    "## *Example of setting up an integration for a single object*\n",
    "\n",
    "Note that the rebound simulation will have the following units: <br /> \n",
    "distance:  au <br /> \n",
    "time: years (1 year==365.25 days) <br /> \n",
    "mass: solar masses <br /> \n",
    "\n",
    "The designation of the small body can be given in most common formats, here we use packed provisional format, but other formats for this example object would include <br /> \n",
    "small_body= '2014XT40' (unpacked provisional des without a space) <br /> \n",
    "small_body= '2014 XT40' (unpacked provisional des with a space)  <br /> \n",
    "small_body = '535167' (this object is also numbered, so this is the number) <br /> \n",
    "small_body = 'r5167' (that number can be packed or not) <br /> \n",
    "\n",
    "The most basic use of the sbd.**initialize_simulation** function will return a simulation with all the major planets initialized at the epoch of the small body's best-fit orbit:"
   ]
  },
  {
   "cell_type": "code",
   "execution_count": 2,
   "id": "33a92626",
   "metadata": {},
   "outputs": [
    {
     "name": "stdout",
     "output_type": "stream",
     "text": [
      "Sucessfully added  K14X40T to a simulation at epoch  2457293.5\n",
      "the best fit clone has a heliocentric orbit of:\n",
      "a= 39.37435526600913\n",
      "e= 0.19030770354867474\n",
      "i= 0.12811604691522185\n",
      "node= -2.3764470316954385\n",
      "aperi= 3.0439841132466654\n",
      "mean anomaly= 0.15561466604368324\n",
      "\n",
      "\n",
      "The status of the rebound simulation instance generated is:\n",
      "---------------------------------\n",
      "REBOUND version:     \t4.4.1\n",
      "REBOUND built on:    \tJul 12 2024 21:06:23\n",
      "Number of particles: \t10\n",
      "Selected integrator: \tias15\n",
      "Simulation time:     \t0.0000000000000000e+00\n",
      "Current timestep:    \t0.012000\n",
      "---------------------------------\n",
      "<rebound.particle.Particle object at 0x159fa3bd0, m=1.0 x=0.0036117142367445344 y=0.0007650357929431655 z=-0.00015742679050831225 vx=0.0006316324676849848 vy=0.0023702294754373034 vz=-1.867735571010212e-05>\n",
      "<rebound.particle.Particle object at 0x159fa31d0, m=1.660120825450693e-07 x=0.36211838598210727 y=-0.034105571075160136 z=-0.035897753115829996 vx=-0.9912023307429476 vy=10.690165545363518 vz=0.9642769996253924>\n",
      "<rebound.particle.Particle object at 0x159fa3bd0, m=2.447838287784771e-06 x=0.6230693692653131 y=0.374658331705025 z=-0.030777914928706903 vx=-3.839776022482905 vy=6.295430509078242 vz=0.3078751284146548>\n",
      "<rebound.particle.Particle object at 0x159fa31d0, m=3.0404326489475004e-06 x=1.0029631832516106 y=0.07664477371673581 z=-0.00016491197684952936 vx=-0.5774358709364622 vy=6.244797843081784 vz=-0.00023913552649470815>\n",
      "<rebound.particle.Particle object at 0x159fa3bd0, m=3.2271560829162293e-07 x=-1.1104349667034354 y=1.2191195733073732 z=0.05271401139511861 vx=-3.5782200773639823 vy=-3.0114480416339884 vz=0.024667013056291653>\n",
      "<rebound.particle.Particle object at 0x159fa31d0, m=0.0009547919099366768 x=-4.910099980978657 y=2.227725678438094 z=0.10054518793237059 vx=-1.1710501125842254 vy=-2.3801686961254913 vz=0.03609390700047327>\n",
      "<rebound.particle.Particle object at 0x159fa3bd0, m=0.0002858856700231729 x=-4.1686427932359615 y=-9.079079499241473 z=0.3237677022436828 vx=1.7402880185843521 vy=-0.8562789092969797 vz=-0.054372080090896655>\n",
      "<rebound.particle.Particle object at 0x159fa31d0, m=4.3662496132004074e-05 x=18.994219732486975 y=6.218207702927937 z=-0.22298154553145721 vx=-0.45744824089301916 vy=1.2983046477757156 vz=0.010749546924097225>\n",
      "<rebound.particle.Particle object at 0x159fa3bd0, m=5.151383772628657e-05 x=27.847921673592495 y=-11.055512860490927 z=-0.41411724468307687 vx=0.4154366550578674 vy=1.0724700769930302 vz=-0.03165968179241249>\n",
      "<rebound.particle.Particle object at 0x159fa31d0, m=0.0 x=19.933881497455648 y=25.054271881750978 z=-0.5497218906529743 vx=-0.911573305418687 vy=0.7817846074825107 vz=-0.15383282360890155>\n",
      "---------------------------------\n"
     ]
    }
   ],
   "source": [
    "small_body = 'K14X40T'\n",
    "flag, epoch, sim = sbd.initialize_simulation(des=small_body)\n",
    "\n",
    "if(flag):\n",
    "    print(\"Sucessfully added \", small_body, \"to a simulation at epoch \", epoch)\n",
    "    print(\"the best fit clone has a heliocentric orbit of:\")\n",
    "    \n",
    "    helio_orbit = sim.particles[small_body].orbit(sim.particles[0])\n",
    "    print(\"a=\",helio_orbit.a)\n",
    "    print(\"e=\",helio_orbit.e)\n",
    "    print(\"i=\",helio_orbit.inc)\n",
    "    print(\"node=\",helio_orbit.Omega)\n",
    "    print(\"aperi=\",helio_orbit.omega)\n",
    "    print(\"mean anomaly=\",helio_orbit.M)\n",
    "\n",
    "    print(\"\\n\\nThe status of the rebound simulation instance generated is:\")\n",
    "    sim.status(showAllFields=False)"
   ]
  },
  {
   "cell_type": "markdown",
   "id": "8f6fe876-e471-435c-bbe3-f6540fbb4dc8",
   "metadata": {},
   "source": [
    "**Specifying planets, adding clones, saving logs and initial conditions**\n",
    "\n",
    "You can also specify the planets you want to include in the simulation (for example, the terrestrial planets aren't really needed if you are integrating a TNO!). This is done by passing a list of **planets** in the function call. Note that as a shortcut, you can also use planets=['outer'] to use just the giant planets. During the initialization, the masses of planets not included in the call are accounted for and added to the Sun, and the timestep of the simulation is set to a value reasonable for the closest-in included planet. **\\*Note\\*** that if you are simulating very close-in comets or near earth asteroids (closer-in than Mercury's orbit), you may need to reset the default timestep to an smaller value to ensure you are accurately resolving their perihelion passages!\n",
    "\n",
    "If clones to sample the orbit uncertainy are desired, then the JPL orbit fit covariance matrix will be used to generate\n",
    "them (the best-fit orbit will always be the first particle and then clones are added in addition to the best-fit orbit). Cloning will happen if **clones** > 0 in the sbd.initialize_simulation function call. If the clones parameter is not included in the function call, it is assumed that clones=0.\n",
    "\n",
    "You can also choose to save the queried covariance matrix that was used for the cloning to a pickle file (useful if you run the same object in the future and want to compare a new orbit-fit to an older one). That is achieved using the **save_sbdb** parameter, which can be set to True (saves to a default file name of \\<designation\\>-\\<date\\>-.pkl) or to a string with your desired file name. The default location for where files will be saved is the directory you are currently in, but can also be specified using **datadir** (as is done in the example below).\n",
    "\n",
    "Setting the **saveic** parameter to True will save the initialized rebound simulation instance to a simulation archive binary file with the name \\<designation\\>-ic.bin. You can also specify a string with a different file name. If the file already exists, the initial conditions will be appended.\n",
    "\n",
    "\n",
    "Finally, you can specify whether you want to generate a log, either to screen or to a file. If **logfile**=True, log messages will be appended to \\<designation\\>-log.txt (in either the current directory of the datadir); logfile can also be set to a string with a desired file name for the log or set to 'screen' to print the log messages to the screen instead of a file.\n"
   ]
  },
  {
   "cell_type": "code",
   "execution_count": 3,
   "id": "d0b95de7-e4ab-4a66-90c0-a974b9fb2641",
   "metadata": {},
   "outputs": [
    {
     "name": "stdout",
     "output_type": "stream",
     "text": [
      "SBDB query results saved to outputs-from-example-notebooks/K14X40T-Sep-19-2024.pkl\n",
      "\n",
      "simulation epoch: 2457293.5\n",
      "\n",
      "Rebound simulation initial conditions saved to outputs-from-example-notebooks/K14X40T-ic.bin\n",
      "\n",
      "Sucessfully added  K14X40T to a simulation at epoch  2457293.5\n",
      "---------------------------------\n",
      "REBOUND version:     \t4.4.1\n",
      "REBOUND built on:    \tJul 12 2024 21:06:23\n",
      "Number of particles: \t11\n",
      "Selected integrator: \tias15\n",
      "Simulation time:     \t0.0000000000000000e+00\n",
      "Current timestep:    \t0.400000\n",
      "---------------------------------\n",
      "<rebound.particle.Particle object at 0x159fa2350, m=1.0000059769986274 x=0.003615969000500503 y=0.000766569114419985 z=-0.00015749063777582636 vx=0.0006191546623273798 vy=0.002405415036719666 vz=-1.7756306065976055e-05>\n",
      "<rebound.particle.Particle object at 0x159fa27d0, m=0.0009547919099366768 x=-4.910099980978657 y=2.227725678438094 z=0.10054518793237059 vx=-1.1710501125842254 vy=-2.3801686961254913 vz=0.03609390700047327>\n",
      "<rebound.particle.Particle object at 0x159fa2350, m=0.0002858856700231729 x=-4.1686427932359615 y=-9.079079499241473 z=0.3237677022436828 vx=1.7402880185843521 vy=-0.8562789092969797 vz=-0.054372080090896655>\n",
      "<rebound.particle.Particle object at 0x159fa27d0, m=4.3662496132004074e-05 x=18.994219732486975 y=6.218207702927937 z=-0.22298154553145721 vx=-0.45744824089301916 vy=1.2983046477757156 vz=0.010749546924097225>\n",
      "<rebound.particle.Particle object at 0x159fa2350, m=5.151383772628657e-05 x=27.847921673592495 y=-11.055512860490927 z=-0.41411724468307687 vx=0.4154366550578674 vy=1.0724700769930302 vz=-0.03165968179241249>\n",
      "<rebound.particle.Particle object at 0x159fa27d0, m=0.0 x=19.933881497455648 y=25.054271881750978 z=-0.5497218906529743 vx=-0.9115733054186869 vy=0.7817846074825107 vz=-0.15383282360890158>\n",
      "<rebound.particle.Particle object at 0x159fa2350, m=0.0 x=19.933763684449623 y=25.05412656168415 z=-0.5497188455026629 vx=-0.9115635977594302 vy=0.7817850841313753 vz=-0.15383172490500327>\n",
      "<rebound.particle.Particle object at 0x159fa27d0, m=0.0 x=19.93385732695555 y=25.054245482679796 z=-0.5497229620458001 vx=-0.9115738808736913 vy=0.7817815081943352 vz=-0.15383056543539983>\n",
      "<rebound.particle.Particle object at 0x159fa2350, m=0.0 x=19.93390135069264 y=25.054291564509388 z=-0.5497231033297127 vx=-0.9115720824394385 vy=0.781787665031804 vz=-0.15383385584567577>\n",
      "<rebound.particle.Particle object at 0x159fa27d0, m=0.0 x=19.93406796727024 y=25.05450688552028 z=-0.5497299218661722 vx=-0.9115852904874063 vy=0.7817868974636729 vz=-0.15383585215525553>\n",
      "<rebound.particle.Particle object at 0x159fa2350, m=0.0 x=19.933891545931782 y=25.054282833886667 z=-0.5497204663727956 vx=-0.9115769589059414 vy=0.7817793740965664 vz=-0.15383219628786443>\n",
      "---------------------------------\n"
     ]
    }
   ],
   "source": [
    "small_body = 'K14X40T'\n",
    "n_clones = 5\n",
    "flag, epoch, sim = sbd.initialize_simulation(des=small_body,\n",
    "                                             planets=['Jupiter','Saturn','Uranus','Neptune'],\n",
    "                                             clones=n_clones,\n",
    "                                             save_sbdb=True,\n",
    "                                             saveic=True,\n",
    "                                             datadir = 'outputs-from-example-notebooks',\n",
    "                                             logfile='screen')\n",
    "\n",
    "#print out the simulation status\n",
    "if(flag):\n",
    "    print(\"Sucessfully added \", small_body, \"to a simulation at epoch \", epoch)\n",
    "    sim.status(showAllFields=False)\n"
   ]
  },
  {
   "cell_type": "markdown",
   "id": "62ac9928",
   "metadata": {},
   "source": [
    "You can proceed from here with regular rebound commands, but we have also included some tools\n",
    "to directly run the rebound simulations, writing outputs to a simulation archive binary file. \n",
    "\n",
    "The simulation defaults to using rebound's mercurius integrator with for the timestep as set above based on the planets in the simulation. **Note of caution:** the simulation\n",
    "does not check to see if a small body gets closer to the sun than the innermost included planet!!! This\n",
    "means that the integration timestep might become unreasonable if the small body evolves too far inward.\n",
    "(Or you could be missing important perturbers, such as the terrestrial planets, if you initialized the \n",
    "simulation with only the outer planets! Check for such conditions when analyzing the output)\n",
    "\n",
    "\n",
    "In the simple example below of sbd.**run_simulation**, the simulation will be advanced using the default timestep to time **tmax** (in years), saving the state of the simulation every **tout** years. A default name will be used for the simulation archive file, as printed to screen."
   ]
  },
  {
   "cell_type": "code",
   "execution_count": 4,
   "id": "2dc2ceaf",
   "metadata": {},
   "outputs": [
    {
     "name": "stdout",
     "output_type": "stream",
     "text": [
      "Running K14X40T from 0.0 to 1000000.0 years \n",
      "using mercurius outputting every 1000.0 years \n",
      "to simulation archivefile outputs-from-example-notebooks/K14X40T-simarchive.bin\n",
      "starting at 2024-09-19 16:39:25.139443\n",
      "\n",
      "finishing at 2024-09-19 16:39:28.090583\n",
      "\n"
     ]
    }
   ],
   "source": [
    "tmax = 1e6\n",
    "tout = 1e3\n",
    "\n",
    "flag, sim = sbd.run_simulation(sim, des=small_body, \n",
    "                               tmax=tmax, tout=tout,\n",
    "                               datadir = 'outputs-from-example-notebooks',\n",
    "                               deletefile=True,\n",
    "                               logfile='screen')\n"
   ]
  },
  {
   "cell_type": "markdown",
   "id": "704bb7ff-7cd6-4649-a468-b7f52085cd04",
   "metadata": {},
   "source": [
    "There are some additional parameters you can use in sbd.**run_simulation**\n",
    "\n",
    "In the example below, we will re-initialize a rebound simulation instance from the saved initial conditions file using sbd.**initialize_simulation_from_simarchive**. (If **archivefile** is omitted from this function call, the simulation would be initialized from the default file saved in the example above and the simulation time would be 1e6 years.)\n",
    "\n",
    "We then run that simulation with sbd.**run_simulation**, but specifying the use of ias15 rather than mercurius with the **integrator** parameter. We will also save to a different filename than the default (**archivefile** parameter) and tell sbd.**run_simulation** to delete any pre-existing simulation archive of that name using the **deletefile** parameter. \n",
    "\n",
    "**Note** ias15 is much slower than mercurius! We will shorten the integration length by a factor of 100 to keep the example running quickly\n",
    "\n"
   ]
  },
  {
   "cell_type": "code",
   "execution_count": 5,
   "id": "01a02116-936f-4c2f-8b16-b6b7652c2410",
   "metadata": {},
   "outputs": [
    {
     "name": "stdout",
     "output_type": "stream",
     "text": [
      "Loaded integration for K14X40T from outputs-from-example-notebooks/K14X40T-ic.bin\n",
      "simulation is at time 0.0 years\n",
      "integrator is ias15\n",
      "\n",
      "Found K14X40T and 5 clones in the simulation\n",
      "\n",
      "Running K14X40T from 0.0 to 10000.0 years \n",
      "using ias15 outputting every 500.0 years \n",
      "to simulation archivefile outputs-from-example-notebooks/custom-new-file-name.bin\n",
      "starting at 2024-09-19 16:39:28.093904\n",
      "\n",
      "finishing at 2024-09-19 16:39:28.441208\n",
      "\n"
     ]
    }
   ],
   "source": [
    "flag, sim, n_clones = sbd.initialize_simulation_from_simarchive(des=small_body,\n",
    "                                                                archivefile = 'K14X40T-ic.bin',\n",
    "                                                                datadir = 'outputs-from-example-notebooks',\n",
    "                                                                logfile='screen')        \n",
    "\n",
    "\n",
    "tmax = 1e4\n",
    "tout=5e2\n",
    "flag, sim = sbd.run_simulation(sim, des=small_body, \n",
    "                               tmax=tmax, tout=tout,\n",
    "                               integrator = 'ias15',\n",
    "                               archivefile = 'custom-new-file-name.bin',\n",
    "                               datadir = 'outputs-from-example-notebooks',\n",
    "                               deletefile=True,\n",
    "                               logfile='screen')\n"
   ]
  },
  {
   "cell_type": "markdown",
   "id": "25838821",
   "metadata": {},
   "source": [
    "## *Example of setting up an integration with a list of small bodies*\n",
    "\n",
    "**No clones allowed** in this instance as the cloning procedure relies on orbit fits that have independent epochs!\n",
    "\n",
    "Also note that none of our analysis routines are optimized for this (they all assume a typical use-case of one small body plus clones per simulation), so this funcitonality is really only to take advantage of the built-in \n",
    "\n"
   ]
  },
  {
   "cell_type": "code",
   "execution_count": 6,
   "id": "81d07411",
   "metadata": {},
   "outputs": [
    {
     "name": "stdout",
     "output_type": "stream",
     "text": [
      "---------------------------------\n",
      "REBOUND version:     \t4.4.1\n",
      "REBOUND built on:    \tJul 12 2024 21:06:23\n",
      "Number of particles: \t14\n",
      "Selected integrator: \tias15\n",
      "Simulation time:     \t0.0000000000000000e+00\n",
      "Current timestep:    \t0.012000\n",
      "---------------------------------\n",
      "<rebound.particle.Particle object at 0x159fa1550, m=1.0 x=0.002823131996485608 y=-0.0008788892248169295 z=-0.00013677120342035865 vx=0.0014620955720366165 vy=0.0019026198829254328 vz=-3.566762704994574e-05>\n",
      "<rebound.particle.Particle object at 0x159fa3c50, m=1.660120825450693e-07 x=0.2850152192904971 y=-0.3078755512113022 z=-0.051110918170975725 vx=5.526647147789773 vy=7.446690400192037 vz=0.10135077000098804>\n",
      "<rebound.particle.Particle object at 0x159fa1550, m=2.447838287784771e-06 x=0.4893659122545278 y=-0.5415398110768662 z=-0.0356247413395807 vx=5.444332334171796 vy=4.917084511306496 vz=-0.24677331732671584>\n",
      "<rebound.particle.Particle object at 0x159fa3c50, m=3.0404326489475004e-06 x=-0.09036731852085139 y=0.9781477163434764 z=-0.0001686674244814564 vx=-6.3563637403644355 vy=-0.6172875209805789 vz=1.2352175520312375e-06>\n",
      "<rebound.particle.Particle object at 0x159fa1550, m=3.2271560829162293e-07 x=1.3422104154610934 y=-0.34260496438078675 z=-0.040171393459156594 vx=1.4612681348470056 vy=5.391558140403267 vz=0.07706374962163391>\n",
      "<rebound.particle.Particle object at 0x159fa3c50, m=0.0009547919099366768 x=-3.7020262755039393 y=3.815383274653286 z=0.06691580908390397 vx=-2.010932788679463 vy=-1.789497599770379 vz=0.052433389320307645>\n",
      "<rebound.particle.Particle object at 0x159fa1550, m=0.0002858856700231729 x=-5.424997794055813 y=-8.33635641686082 z=0.3608540749556554 vx=1.5965450457590857 vy=-1.1171222397151843 vz=-0.04411477966430433>\n",
      "<rebound.particle.Particle object at 0x159fa3c50, m=4.3662496132004074e-05 x=19.311337135303095 y=5.2342531761157245 z=-0.23074534316088546 vx=-0.38630898288533577 vy=1.3195764371530398 vz=0.009907153129233234>\n",
      "<rebound.particle.Particle object at 0x159fa1550, m=5.151383772628657e-05 x=27.524198341313035 y=-11.856819850666156 z=-0.3901552782619367 vx=0.44599350087747297 vy=1.0598239689965063 vz=-0.03210349602824989>\n",
      "<rebound.particle.Particle object at 0x159fa3c50, m=0.0 x=20.612103812560647 y=24.45826901805601 z=-0.43393640646823395 vx=-0.893201404078066 vy=0.8042210134602036 vz=-0.15427850043154204>\n",
      "<rebound.particle.Particle object at 0x159fa1550, m=0.0 x=30.354142463153067 y=15.409078010716424 z=-12.183957376584361 vx=-0.429142196400094 vy=1.067356224038822 vz=0.5677634050602846>\n",
      "<rebound.particle.Particle object at 0x159fa3c50, m=0.0 x=35.17140840741611 y=21.48795079998974 z=0.8337448090773395 vx=-0.49858380298091914 vy=0.8765310230077643 vz=0.03325420401636688>\n",
      "<rebound.particle.Particle object at 0x159fa1550, m=0.0 x=-1.6855300338722945 y=-5.782753477038287 z=-0.8499173747040423 vx=2.4409601425823055 vy=-0.637138305909526 vz=0.22619293751164016>\n",
      "<rebound.particle.Particle object at 0x159fa3c50, m=0.0 x=-4.646574581642251 y=-5.724581931021855 z=2.407512855014134 vx=1.370353055552531 vy=-1.260657727069021 vz=-0.2487026656908017>\n",
      "---------------------------------\n"
     ]
    }
   ],
   "source": [
    "# as above, designations can be packed, unpacked, numbers, comets, etc\n",
    "list_of_small_bodies = ['K14X40T','2016 SW50', '15760','29P','179P/Jedicke']\n",
    "\n",
    "# initialize the simulation without specifying planets (it will thus include all the major planets)\n",
    "flag, epoch, sim = sbd.initialize_simulation_at_epoch(des=list_of_small_bodies, epoch=2457019.)\n",
    "\n",
    "#print out the simulation status\n",
    "if(flag):\n",
    "    sim.status(showAllFields=False)\n"
   ]
  }
 ],
 "metadata": {
  "kernelspec": {
   "display_name": "Python 3 (ipykernel)",
   "language": "python",
   "name": "python3"
  },
  "language_info": {
   "codemirror_mode": {
    "name": "ipython",
    "version": 3
   },
   "file_extension": ".py",
   "mimetype": "text/x-python",
   "name": "python",
   "nbconvert_exporter": "python",
   "pygments_lexer": "ipython3",
   "version": "3.12.6"
  }
 },
 "nbformat": 4,
 "nbformat_minor": 5
}
