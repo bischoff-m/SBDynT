{
 "cells": [
  {
   "cell_type": "code",
   "execution_count": 1,
   "id": "e2edb8d7",
   "metadata": {},
   "outputs": [],
   "source": [
    "import rebound\n",
    "import sys\n",
    "#change the next line to reflect where you have downloaded the source code\n",
    "sys.path.insert(0, '/Users/kvolk/Documents/GitHub/SBDynT/src')\n",
    "import sbdynt as sbd\n"
   ]
  },
  {
   "cell_type": "markdown",
   "id": "ba08d2cd",
   "metadata": {},
   "source": [
    "# *Tools to directly set up a rebound integration from JPL orbit fits*\n",
    "These routines use JPL's small body database to pull best-fit orbits and (if you want clones) an orbit-fit  covariance matrix for a small body given its designation and initializes a rebound simulation instance with that object and the sun and planets for the epoch of the orbit fit \n",
    "\n",
    "see detailed-examples-of-JPL-and-Horizons-query-functions.ipynb for details on the JPL queries"
   ]
  },
  {
   "cell_type": "markdown",
   "id": "99bbb167",
   "metadata": {},
   "source": [
    "**Example of setting up an integration for a single object**\n",
    "\n",
    "Note that the rebound simulation will have the following units: <br /> \n",
    "distance:  au <br /> \n",
    "time: years (1 year==365.25 days) <br /> \n",
    "mass: solar masses <br /> \n",
    "\n",
    "The designation of the small body can be given in most common formats, here we use packed provisional format, but other formats for this example object would include <br /> \n",
    "small_body= '2014XT40' (unpacked provisional des without a space) <br /> \n",
    "small_body= '2014 XT40' (unpacked provisional des with a space)  <br /> \n",
    "small_body = '535167' (this object is also numbered, so this is the number) <br /> \n",
    "small_body = 'r5167' (that number can be packed or not) <br /> \n",
    "\n",
    "The most basic use of the sbd.**initialize_simulation** function will return a simulation with all the major planets initialized at the epoch of the small body's best-fit orbit:"
   ]
  },
  {
   "cell_type": "code",
   "execution_count": 2,
   "id": "33a92626",
   "metadata": {},
   "outputs": [
    {
     "name": "stdout",
     "output_type": "stream",
     "text": [
      "Sucessfully added  K14X40T to a simulation at epoch  2457217.5\n",
      "the best fit clone has a heliocentric orbit of:\n",
      "a= 39.39346545211934\n",
      "e= 0.19068466911250045\n",
      "i= 0.12809190830418987\n",
      "node= -2.376471686736393\n",
      "aperi= 3.0447520417387786\n",
      "mean anomaly= 0.1496946219973534\n",
      "\n",
      "\n",
      "The status of the rebound simulation instance generated is:\n",
      "---------------------------------\n",
      "REBOUND version:     \t4.4.1\n",
      "REBOUND built on:    \tMay  8 2024 00:22:37\n",
      "Number of particles: \t10\n",
      "Selected integrator: \tias15\n",
      "Simulation time:     \t0.0000000000000000e+00\n",
      "Current timestep:    \t0.012000\n",
      "---------------------------------\n",
      "<rebound.particle.Particle object at 0x304e07050, m=1.0 x=0.00345997337268094 y=0.0002804304906489453 z=-0.0001531944658273006 vx=0.0008360120491290403 vy=0.0022947255451278956 vz=-2.261460135168542e-05>\n",
      "<rebound.particle.Particle object at 0x304e057d0, m=1.660120825450693e-07 x=0.15955259895299326 y=0.2679908518849033 z=0.007400627257518443 vx=-10.926050573217358 vy=5.58755384754587 vz=1.4588322762800312>\n",
      "<rebound.particle.Particle object at 0x304e07050, m=2.447838287784771e-06 x=0.01044696819810673 y=-0.7266312789599813 z=-0.01051962533761761 vx=7.33857174202928 vy=0.04628674566016034 vz=-0.42286946649686785>\n",
      "<rebound.particle.Particle object at 0x304e057d0, m=3.0404326489475004e-06 x=0.36871570688683647 y=-0.9483597400593979 z=-0.0001227602550354322 vx=5.762883069253023 vy=2.2366598840933487 vz=-0.00011515714226250307>\n",
      "<rebound.particle.Particle object at 0x304e07050, m=3.2271560829162293e-07 x=-0.20339591353968944 y=1.574005732508921 z=0.037898810258516595 vx=-4.872636142662664 vy=-0.22986731884662662 vz=0.11472735268889962>\n",
      "<rebound.particle.Particle object at 0x304e057d0, m=0.0009547919099366768 x=-4.640079009063583 y=2.709933685630652 z=0.09249943531696177 vx=-1.4224164878812873 vy=-2.2502849100954925 vz=0.0411788659179636>\n",
      "<rebound.particle.Particle object at 0x304e07050, m=0.0002858856700231729 x=-4.527081593730464 y=-8.893180388894034 z=0.33480063198292653 vx=1.7044567379097002 vy=-0.9303393869988008 vz=-0.051658035666762914>\n",
      "<rebound.particle.Particle object at 0x304e057d0, m=4.3662496132004074e-05 x=19.0873661231142 y=5.947404367703717 z=-0.2251943186472506 vx=-0.4378473452878478 vy=1.3045667967979382 vz=0.010518936289208814>\n",
      "<rebound.particle.Particle object at 0x304e07050, m=5.151383772628657e-05 x=27.760594405829092 y=-11.278314876866611 z=-0.4075165060602012 vx=0.42393453729074515 vy=1.069056488764797 vz=-0.031785235367998974>\n",
      "<rebound.particle.Particle object at 0x304e057d0, m=0.0 x=20.123027489571445 y=24.890936438433503 z=-0.5176978231991909 vx=-0.9065546329300287 vy=0.7880420318733204 vz=-0.15396594885267845>\n",
      "---------------------------------\n"
     ]
    }
   ],
   "source": [
    "small_body = 'K14X40T'\n",
    "flag, epoch, sim = sbd.initialize_simulation(des=small_body)\n",
    "\n",
    "if(flag):\n",
    "    print(\"Sucessfully added \", small_body, \"to a simulation at epoch \", epoch)\n",
    "    print(\"the best fit clone has a heliocentric orbit of:\")\n",
    "    \n",
    "    helio_orbit = sim.particles[small_body].orbit(sim.particles[0])\n",
    "    print(\"a=\",helio_orbit.a)\n",
    "    print(\"e=\",helio_orbit.e)\n",
    "    print(\"i=\",helio_orbit.inc)\n",
    "    print(\"node=\",helio_orbit.Omega)\n",
    "    print(\"aperi=\",helio_orbit.omega)\n",
    "    print(\"mean anomaly=\",helio_orbit.M)\n",
    "\n",
    "    print(\"\\n\\nThe status of the rebound simulation instance generated is:\")\n",
    "    sim.status(showAllFields=False)"
   ]
  },
  {
   "cell_type": "markdown",
   "id": "8f6fe876-e471-435c-bbe3-f6540fbb4dc8",
   "metadata": {},
   "source": [
    "**Specifying planets, adding clones, saving logs and initial conditions**\n",
    "\n",
    "You can also specify the planets you want to include in the simulation (for example, the terrestrial planets aren't really needed if you are integrating a TNO!). This is done by passing a list of **planets** in the function call. Note that as a shortcut, you can also use planets=['outer'] to use just the giant planets. During the initialization, the masses of planets not included in the call are accounted for and added to the Sun, and the timestep of the simulation is set to a value reasonable for the closest-in included planet. **\\*Note\\*** that if you are simulating very close-in comets or near earth asteroids (closer-in than Mercury's orbit), you may need to reset the default timestep to an smaller value to ensure you are accurately resolving their perihelion passages!\n",
    "\n",
    "If clones to sample the orbit uncertainy are desired, then the JPL orbit fit covariance matrix will be used to generate\n",
    "them (the best-fit orbit will always be the first particle and then clones are added in addition to the best-fit orbit). Cloning will happen if **clones** > 0 in the sbd.initialize_simulation function call. If the clones parameter is not included in the function call, it is assumed that clones=0.\n",
    "\n",
    "You can also choose to save the queried covariance matrix that was used for the cloning to a pickle file (useful if you run the same object in the future and want to compare a new orbit-fit to an older one). That is achieved using the **save_sbdb** parameter, which can be set to True (saves to a default file name of \\<designation\\>-\\<date\\>-.pkl) or to a string with your desired file name. The default location for where files will be saved is the directory you are currently in, but can also be specified using **datadir** (as is done in the example below).\n",
    "\n",
    "Setting the **saveic** parameter to True will save the initialized rebound simulation instance to a simulation archive binary file with the name \\<designation\\>-ic.bin. You can also specify a string with a different file name. If the file already exists, the initial conditions will be appended.\n",
    "\n",
    "\n",
    "Finally, you can specify whether you want to generate a log, either to screen or to a file. If **logfile**=True, log messages will be appended to \\<designation\\>-log.txt (in either the current directory of the datadir); logfile can also be set to a string with a desired file name for the log or set to 'screen' to print the log messages to the screen instead of a file.\n"
   ]
  },
  {
   "cell_type": "code",
   "execution_count": 4,
   "id": "d0b95de7-e4ab-4a66-90c0-a974b9fb2641",
   "metadata": {},
   "outputs": [
    {
     "name": "stdout",
     "output_type": "stream",
     "text": [
      "Sucessfully added  K14X40T to a simulation at epoch  2457217.5\n",
      "---------------------------------\n",
      "REBOUND version:     \t4.4.1\n",
      "REBOUND built on:    \tMay  8 2024 00:22:37\n",
      "Number of particles: \t11\n",
      "Selected integrator: \tias15\n",
      "Simulation time:     \t0.0000000000000000e+00\n",
      "Current timestep:    \t0.400000\n",
      "---------------------------------\n",
      "<rebound.particle.Particle object at 0x304e05e50, m=1.0000059769986274 x=0.0034610601623145097 y=0.00027631918524403633 z=-0.00015320621456877916 vx=0.0008681058230389303 vy=0.0023024789190979255 vz=-2.337071977160678e-05>\n",
      "<rebound.particle.Particle object at 0x304e05ed0, m=0.0009547919099366768 x=-4.640079009063582 y=2.709933685630652 z=0.09249943531696177 vx=-1.4224164878812873 vy=-2.2502849100954925 vz=0.04117886591796361>\n",
      "<rebound.particle.Particle object at 0x304e05e50, m=0.0002858856700231729 x=-4.527081593730463 y=-8.893180388894034 z=0.33480063198292653 vx=1.7044567379097002 vy=-0.9303393869988008 vz=-0.05165803566676291>\n",
      "<rebound.particle.Particle object at 0x304e05ed0, m=4.3662496132004074e-05 x=19.0873661231142 y=5.947404367703717 z=-0.2251943186472506 vx=-0.4378473452878478 vy=1.3045667967979382 vz=0.010518936289208814>\n",
      "<rebound.particle.Particle object at 0x304e05e50, m=5.151383772628657e-05 x=27.760594405829092 y=-11.278314876866611 z=-0.4075165060602012 vx=0.42393453729074515 vy=1.069056488764797 vz=-0.03178523536799897>\n",
      "<rebound.particle.Particle object at 0x304e05ed0, m=0.0 x=20.123027489571445 y=24.890936438433503 z=-0.517697823199191 vx=-0.9065546329300287 vy=0.7880420318733204 vz=-0.15396594885267842>\n",
      "<rebound.particle.Particle object at 0x304e05e50, m=0.0 x=20.123044044933945 y=24.890951931852328 z=-0.5176916206725378 vx=-0.9065599781457256 vy=0.7880389334480185 vz=-0.15396575152690112>\n",
      "<rebound.particle.Particle object at 0x304e05ed0, m=0.0 x=20.123026636731023 y=24.890931819691694 z=-0.517702619504639 vx=-0.9065548304389166 vy=0.7880398438060799 vz=-0.15396596145837527>\n",
      "<rebound.particle.Particle object at 0x304e05e50, m=0.0 x=20.12303021195111 y=24.890946550894274 z=-0.5176964857930272 vx=-0.9065550577897237 vy=0.7880438158330388 vz=-0.1539651120542871>\n",
      "<rebound.particle.Particle object at 0x304e05ed0, m=0.0 x=20.12300541293955 y=24.890920573306513 z=-0.5176978565750469 vx=-0.906552654549451 vy=0.7880453274417569 vz=-0.15396634295238812>\n",
      "<rebound.particle.Particle object at 0x304e05e50, m=0.0 x=20.12312462910364 y=24.891053507795476 z=-0.5176978817455015 vx=-0.9065610149950326 vy=0.7880424678332069 vz=-0.15396633536543047>\n",
      "---------------------------------\n"
     ]
    }
   ],
   "source": [
    "small_body = 'K14X40T'\n",
    "n_clones = 5\n",
    "flag, epoch, sim = sbd.initialize_simulation(des=small_body,\n",
    "                                             planets=['Jupiter','Saturn','Uranus','Neptune'],\n",
    "                                             clones=n_clones,\n",
    "                                             save_sbdb=True,\n",
    "                                             saveic=True,\n",
    "                                             datadir = 'outputs-from-example-notebooks',\n",
    "                                             logfile='screen')\n",
    "\n",
    "#print out the simulation status\n",
    "if(flag):\n",
    "    print(\"Sucessfully added \", small_body, \"to a simulation at epoch \", epoch)\n",
    "    sim.status(showAllFields=False)\n"
   ]
  },
  {
   "cell_type": "markdown",
   "id": "62ac9928",
   "metadata": {},
   "source": [
    "You can proceed from here with regular rebound commands, but we have also included some tools\n",
    "to directly run the rebound simulations, writing outputs to a simulation archive binary file. \n",
    "\n",
    "The simulation defaults to using rebound's mercurius integrator with for the timestep as set above based on the planets in the simulation. **Note that the simulation\n",
    "does not check to see if a small body gets closer to the sun than the innermost included planet!!! This\n",
    "means that the integration timestep might become unreasonable if the small body evolves too far inward.**\n",
    "(Or you could be missing important perturbers, such as the terrestrial planets, if you initialized the \n",
    "simulation with only the outer planets! Check for such conditions when analyzing the output)"
   ]
  },
  {
   "cell_type": "code",
   "execution_count": null,
   "id": "2dc2ceaf",
   "metadata": {},
   "outputs": [],
   "source": [
    "#max time in the integration (years)\n",
    "tmax = 1e6\n",
    "#how often you want to save the simulation archive file\n",
    "tout = 1e3\n",
    "\n",
    "\n",
    "savefile = \"K14X40T-1Myr-archive.bin\"\n",
    "\n",
    "#run the simulation, deleting any existing simulation archive\n",
    "flag, sim = sbd.run_simulation(sim, tmax=tmax, tout=tout, archivefile=savefile,deletefile=True)\n",
    "\n",
    "#if you want to use a whfast or ias15, you can specify that \n",
    "#flag, sim = sbd.run_simulation(sim, tmax=tmax, tout=tout,filename=savefile,deletefile=True,integrator='ias15')\n",
    "#flag, sim = sbd.run_simulation(sim, tmax=tmax, tout=tout,filename=savefile,deletefile=True,integrator='whfast')\n",
    "\n",
    "if(flag):\n",
    "    print(\"Simulation ran to \", sim.t, \" years\")"
   ]
  },
  {
   "cell_type": "markdown",
   "id": "25838821",
   "metadata": {},
   "source": [
    "**Example of setting up an integration with a list of small bodies**\n",
    "\n",
    "(no clones allowed in this instance as the cloning procedure relies on orbit fits that have independent epochs!)\n",
    "\n"
   ]
  },
  {
   "cell_type": "code",
   "execution_count": null,
   "id": "81d07411",
   "metadata": {},
   "outputs": [],
   "source": [
    "# Example of setting up an integration with a list of small bodies (no clones allowed)\n",
    "\n",
    "#Set up an empty simulation, specify the small body and number of clones\n",
    "sim= rebound.Simulation()\n",
    "# as above, designations can be packed, unpacked, numbers, comets, etc\n",
    "list_of_sbodies = ['K14X40T','2016 SW50', '15760','29P','179P/Jedicke']\n",
    "\n",
    "#initialize the simulation without specifying planets (it will thus include all the major planets)\n",
    "flag, epoch, sim = sbd.initialize_simulation_at_epoch(des=list_of_sbodies, epoch=2457019.)\n",
    "\n",
    "#print out the simulation status\n",
    "if(flag):\n",
    "    sim.status(showAllFields=False)\n"
   ]
  },
  {
   "cell_type": "markdown",
   "id": "9712cfc9",
   "metadata": {},
   "source": [
    "# **Example plots from the integration of K14X40T above**"
   ]
  },
  {
   "cell_type": "markdown",
   "id": "0a1043e3",
   "metadata": {},
   "source": [
    "There are two ways to read the simualtion archive file with the build in functions: by hash or by small body name (which will read in all the clones too if there are any)"
   ]
  },
  {
   "cell_type": "code",
   "execution_count": null,
   "id": "16a0f987",
   "metadata": {},
   "outputs": [],
   "source": [
    "#first by hash, where the best-fit always has the hash small_body and clones are small_body+\"_j\" for clones 1 through j\n",
    "small_body = 'K14X40T'\n",
    "nclones=5\n",
    "flag, abf, ebf, incbf, nodebf, aperibf, mabf, t = sbd.read_sa_by_hash(obj_hash = small_body, archivefile=savefile)\n",
    "\n",
    "#you can read the planet evolution this way too, their hashes are their names in all lower case\n",
    "#(though the routine will change your input to lowercase if you enter, e.g. \"Jupiter\")\n",
    "flag, a_j, e_j, inc_j, node_j, aperi_j, ma_j, t = sbd.read_sa_by_hash(obj_hash = \"jupiter\", archivefile=savefile)"
   ]
  },
  {
   "cell_type": "code",
   "execution_count": null,
   "id": "63e1910b",
   "metadata": {},
   "outputs": [],
   "source": [
    "#now reading all the clones (the best fit will be indexed 0, then clones)\n",
    "flag, a, e, inc, node, aperi, ma, t = sbd.read_sa_for_small_body(small_body=small_body, archivefile=savefile,nclones=nclones)"
   ]
  },
  {
   "cell_type": "code",
   "execution_count": null,
   "id": "53f6f4e8",
   "metadata": {},
   "outputs": [],
   "source": [
    "#plot just the best-fit orbit (no clones)\n",
    "#figfile can be omitted if you don't want to save the figure\n",
    "flag, fig = sbd.plot_aei(small_body=small_body,a=a,e=e,inc=inc,t=t,nclones=0,figfile='example-K14X40T-bf-aei.png')"
   ]
  },
  {
   "cell_type": "code",
   "execution_count": null,
   "id": "da51a5cc",
   "metadata": {},
   "outputs": [],
   "source": [
    "#make a two-column plot that also shows the clones\n",
    "flag, fig2 = sbd.plot_aei(small_body=small_body,a=a,e=e,inc=inc,t=t,\n",
    "                    nclones=nclones,figfile='example-K14X40T-bf-and-clones-aei.png')"
   ]
  },
  {
   "cell_type": "code",
   "execution_count": null,
   "id": "e29e226c",
   "metadata": {},
   "outputs": [],
   "source": [
    "#this TNO happens to be a plutino, so you can also plot the resonant evolution\n",
    "#first we go back to the simulation archive to calcaulte the resonant angle\n",
    "#where for plutinos the p:q resonances is 3:2\n",
    "(flag, a, e, inc, node, aperi, ma, phi, t,res_str) = sbd.read_sa_for_resonance(\n",
    "                            small_body=small_body,\n",
    "                            archivefile=savefile,planet='neptune',\n",
    "                            p=3,q=2,nclones=nclones)\n",
    "flag, fig3 = sbd.plot_resonance(small_body=small_body,\n",
    "                          res_string=res_str,\n",
    "                          a=a,e=e,inc=inc,phi=phi,t=t,\n",
    "                          nclones=nclones,figfile=None)"
   ]
  }
 ],
 "metadata": {
  "kernelspec": {
   "display_name": "Python 3 (ipykernel)",
   "language": "python",
   "name": "python3"
  },
  "language_info": {
   "codemirror_mode": {
    "name": "ipython",
    "version": 3
   },
   "file_extension": ".py",
   "mimetype": "text/x-python",
   "name": "python",
   "nbconvert_exporter": "python",
   "pygments_lexer": "ipython3",
   "version": "3.11.9"
  }
 },
 "nbformat": 4,
 "nbformat_minor": 5
}
