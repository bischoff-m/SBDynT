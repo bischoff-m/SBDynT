{
 "cells": [
  {
   "cell_type": "code",
   "execution_count": null,
   "id": "e2edb8d7",
   "metadata": {},
   "outputs": [],
   "source": [
    "import rebound\n",
    "import sys\n",
    "#change the next line to reflect where you have downloaded the source code\n",
    "sys.path.insert(0, '/Users/kvolk/Documents/GitHub/SBDynT/src')\n",
    "import sbdynt as sbd\n"
   ]
  },
  {
   "cell_type": "markdown",
   "id": "ba08d2cd",
   "metadata": {},
   "source": [
    "# *Tools to directly set up a rebound integration*\n",
    "The calls above are integrated into these functions"
   ]
  },
  {
   "cell_type": "markdown",
   "id": "99bbb167",
   "metadata": {},
   "source": [
    "**Example of setting up an integration with clones for a single object**\n",
    "\n",
    "Note that the rebound simulation will have the following units:\n",
    "\n",
    "distance: au\n",
    "\n",
    "time: years (1 year==365.25 days)\n",
    "\n",
    "mass: solar masses"
   ]
  },
  {
   "cell_type": "code",
   "execution_count": null,
   "id": "33a92626",
   "metadata": {},
   "outputs": [],
   "source": [
    "#Set up an empty simulation, specify the small body and number of clones\n",
    "sim= rebound.Simulation()\n",
    "sbody = 'K14X40T'\n",
    "clones = 5\n",
    "\n",
    "#initialize the simulation with the giant planets (can include all the major planets)\n",
    "flag, epoch, sim = sbd.initialize_simulation(planets=['Jupiter','Saturn','Uranus','Neptune'],\n",
    "                                                 des=sbody, clones=clones)\n",
    "\n",
    "#print out the simulation status\n",
    "if(flag):\n",
    "    print(\"Sucessfully added \", sbody, \"to a simulation at epoch \", epoch)\n",
    "    print(\"the best fit clone has a heliocentric orbit of:\")\n",
    "    \n",
    "    helio_orbit = sim.particles[sbody+\"_bf\"].calculate_orbit(sim.particles[0])\n",
    "    print(\"a=\",helio_orbit.a)\n",
    "    print(\"e=\",helio_orbit.e)\n",
    "    print(\"i=\",helio_orbit.inc)\n",
    "    print(\"node=\",helio_orbit.Omega)\n",
    "    print(\"aperi=\",helio_orbit.omega)\n",
    "    print(\"mean anomaly=\",helio_orbit.M)\n",
    "    \n",
    "    print(\"\\n\"+\"or a barycentric orbit of:\")\n",
    "    \n",
    "    helio_orbit = sim.particles[sbody+\"_bf\"].calculate_orbit(sim.calculate_com())\n",
    "    print(\"a=\",helio_orbit.a)\n",
    "    print(\"e=\",helio_orbit.e)\n",
    "    print(\"i=\",helio_orbit.inc)\n",
    "    print(\"node=\",helio_orbit.Omega)\n",
    "    print(\"aperi=\",helio_orbit.omega)\n",
    "    print(\"mean anomaly=\",helio_orbit.M)    \n",
    "    \n",
    "    \n",
    "    sim.status()\n"
   ]
  },
  {
   "cell_type": "markdown",
   "id": "62ac9928",
   "metadata": {},
   "source": [
    "You could proceed from here with regular rebound commands, but we have also included some tools\n",
    "to directly run the rebound simulations, writing outputs to a simulation archive binary file\n",
    "\n",
    "The simulation defaults to using rebound's mercurius integrator with reasonable \n",
    "default choices for the timestep based on the planets in the simulation. **Note that the simulation\n",
    "does not check to see if a small body gets closer to the sun than the innermost included planet!!! This\n",
    "means that the integration timestep might become unreasonable if the small body evolves too far inward.**\n",
    "(Or you could be missing important perturbers, such as the terrestrial planets, if you initialized the \n",
    "simulation with only the outer planets! Check for such conditions when analyzing the output)"
   ]
  },
  {
   "cell_type": "code",
   "execution_count": null,
   "id": "2dc2ceaf",
   "metadata": {},
   "outputs": [],
   "source": [
    "#max time in the integration (years)\n",
    "tmax = 1e6\n",
    "\n",
    "#how often you want to save the simulation archive file\n",
    "tout = 1e3\n",
    "savefile = \"archive.bin\"\n",
    "\n",
    "#sun the simulation, deleting any existing simulation archive\n",
    "flag, sim = sbd.run_simulation(sim, tmax=tmax, tout=tout,filename=savefile,deletefile=True)\n",
    "\n",
    "if(flag):\n",
    "    print(\"Simulation ran to \", sim.t, \" years\")"
   ]
  },
  {
   "cell_type": "markdown",
   "id": "25838821",
   "metadata": {},
   "source": [
    "**Example of setting up an integration with a list of small bodies**\n",
    "\n",
    "(no clones allowed in this instance as the cloning procedure relies on orbit-fits that have independent epochs!)\n",
    "\n"
   ]
  },
  {
   "cell_type": "code",
   "execution_count": null,
   "id": "81d07411",
   "metadata": {},
   "outputs": [],
   "source": [
    "# Example of setting up an integration with a list of small bodies (no clones allowed)\n",
    "\n",
    "#Set up an empty simulation, specify the small body and number of clones\n",
    "sim= rebound.Simulation()\n",
    "# note that designations can be packed, unpacked, numbers, comets, etc\n",
    "list_of_sbodies = ['K14X40T','2016 SW50', '15760','29P','179P/Jedicke']\n",
    "\n",
    "#initialize the simulation without specifying planets (it will thus include all the major planets)\n",
    "flag, epoch, sim = sbd.initialize_simulation_at_epoch(des=list_of_sbodies, epoch=2457019.)\n",
    "\n",
    "#print out the simulation status\n",
    "if(flag):\n",
    "    sim.status()\n"
   ]
  },
  {
   "cell_type": "markdown",
   "id": "ed929993",
   "metadata": {},
   "source": [
    "**Example of setting up an integration with just the planets at a spefied epoch**\n",
    "\n",
    "Note that if not all planets are included in a simulation, we correct for that, so this routine also returns the necessary cartesian correction to the heliocentric position and velocity vectors of any small bodies you want to add to the simulation. \n",
    "\n",
    "You must use these corrections *before* using a sim.move_to_com() command!\n",
    "\n",
    "\n"
   ]
  },
  {
   "cell_type": "code",
   "execution_count": null,
   "id": "6dfbe41b",
   "metadata": {},
   "outputs": [],
   "source": [
    "sim= rebound.Simulation()\n",
    "epoch = 2457387.5\n",
    "flag, sim, dx, dy, dz, dvx, dvy, dvz = sbd.add_planets(sim,epoch=epoch)\n",
    "if(flag):\n",
    "    print(\"All major planets were included so the corrections are all zero: \")\n",
    "    print(dx,dy,dz,dvx,dvy,dvz)"
   ]
  },
  {
   "cell_type": "code",
   "execution_count": null,
   "id": "3ad4bf7d",
   "metadata": {},
   "outputs": [],
   "source": [
    "sim= rebound.Simulation()\n",
    "epoch = 2457387.5\n",
    "flag, sim, dx, dy, dz, dvx, dvy, dvz = sbd.add_planets(sim,\n",
    "                                                           planets=['Jupiter','Saturn','Uranus', 'Neptune'],\n",
    "                                                           epoch=epoch)\n",
    "if(flag):\n",
    "    print(\"Only the giant planets are included, so the corrections are non-zero: \")\n",
    "    print(dx,dy,dz)\n",
    "    print(dvx,dvy,dvz)\n",
    "    \n",
    "    #when adding small bodies by observed heliocentric orbit, you should convert to cartesian using the GM\n",
    "    #value for the sun used for that heliocentric orbit fit and then add them to the simulation using \n",
    "    #the above corrections\n",
    "    \n",
    "    #Example, suppose you have an orbit calculated at the above epoch using Find_Orb with the following\n",
    "    #orbital elements:\n",
    "    a = 39.4060972335126 #(semimajor axis in au)\n",
    "    ec = 0.19121388131996062 #(eccentricity)\n",
    "    inc=0.1279988198070029 #radians! (inclination relative to the ecliptic)\n",
    "    node = -2.3766713138417384 #radians! (longitude of ascending node)\n",
    "    argperi = 3.033977870435759 #radians! (argument of pericenter)\n",
    "    ma = 0.15683745626851575 #radians! (mean anomaly)\n",
    "    \n",
    "    #You need the value of GMsun used by Find_Orb, which we have in a constants file\n",
    "    import hard_coded_constants as const\n",
    "\n",
    "    # We need to convert the Find_Orb orbit to heliocentric\n",
    "    # cartesian variables using Find_Orb's assumed solar GM\n",
    "    # which is in km^2/s^2, so have to convert a to km first\n",
    "    a = a/const.kmtoau\n",
    "    #now we use a built-in tool to convert to heliocentric cartesian\n",
    "    aeiflag, x, y, z, vx, vy, vz = sbd.aei_to_xv(GM=const.find_orb_sunGM, \n",
    "                    a=a, e=ec, inc=inc, node=node, argperi=argperi, ma=ma)\n",
    "    # those positions and velocities are in km and km/s, so need to convert\n",
    "    # to au/year\n",
    "    x=x*const.kmtoau\n",
    "    y=y*const.kmtoau\n",
    "    z=z*const.kmtoau\n",
    "    vx=vx*const.kmtoau/const.stoyear\n",
    "    vy=vy*const.kmtoau/const.stoyear\n",
    "    vz=vz*const.kmtoau/const.stoyear\n",
    "    \n",
    "    #now we can apply the corrections from add_planets to make them heliocentric\n",
    "    x+=dx; y+=dy; z+=dz;\n",
    "    vx+=dvx; vy+=dvy; vz+=dvz;\n",
    "    \n",
    "    #finally we can add a test particle to sim with that corrected orbit:\n",
    "    sim.add(m=0., x=x, y=y, z=z, vx=vx, vy=vy, vz=vz, hash=\"test-orbit\")\n",
    "    \n",
    "    helio_orbit = sim.particles[\"test-orbit\"].calculate_orbit(sim.particles[0])\n",
    "\n",
    "    print(\"Added heliocentric orbit: \")\n",
    "    print(\"a=\",helio_orbit.a)\n",
    "    print(\"e=\",helio_orbit.e)\n",
    "    print(\"i=\",helio_orbit.inc)\n",
    "    print(\"node=\",helio_orbit.Omega)\n",
    "    print(\"aperi=\",helio_orbit.omega)\n",
    "    print(\"mean anomaly=\",helio_orbit.M)\n",
    "    \n",
    "    print(\"\\n\"+\"Simulation with the corrected small body orbit included: \")\n",
    "    sim.status()\n",
    "\n"
   ]
  },
  {
   "cell_type": "markdown",
   "id": "9712cfc9",
   "metadata": {},
   "source": [
    "# **Example plots from the integration of K14X40T above**"
   ]
  },
  {
   "cell_type": "markdown",
   "id": "0a1043e3",
   "metadata": {},
   "source": [
    "There are two ways to read the simualtion archive file with the build in functions: by hash or by small body name (which will read in all the clones too if there are any)"
   ]
  },
  {
   "cell_type": "code",
   "execution_count": null,
   "id": "16a0f987",
   "metadata": {},
   "outputs": [],
   "source": [
    "#first by hash, where the best-fit always has the hash sbody_bf\n",
    "sbody = 'K14X40T'\n",
    "savefile = 'archive.bin'\n",
    "nclones=5\n",
    "flag, abf, ebf, incbf, nodebf, aperibf, mabf, t = sbd.read_sa_by_hash(obj_hash = sbody+\"_bf\", archivefile=savefile)\n",
    "#you can read the planet evolution this way too"
   ]
  },
  {
   "cell_type": "code",
   "execution_count": null,
   "id": "63e1910b",
   "metadata": {},
   "outputs": [],
   "source": [
    "#now reading all the clones (the best fit will be indexed 0, then clones)\n",
    "flag, a, e, inc, node, aperi, ma, t = sbd.read_sa_for_sbody(sbody=sbody, archivefile=savefile,nclones=nclones)"
   ]
  },
  {
   "cell_type": "code",
   "execution_count": null,
   "id": "53f6f4e8",
   "metadata": {},
   "outputs": [],
   "source": [
    "#plot just the best-fit orbit (no clones)\n",
    "#figfile can be omitted if you don't want to save the figure\n",
    "sbd.plot_aei(sbody=sbody,a=a,e=e,inc=inc,t=t,nclones=0,figfile='example-K14X40T-bf-aei.png')"
   ]
  },
  {
   "cell_type": "code",
   "execution_count": null,
   "id": "da51a5cc",
   "metadata": {},
   "outputs": [],
   "source": [
    "#make a two-column plot that also shows the clones\n",
    "sbd.plot_aei(sbody=sbody,a=a,e=e,inc=inc,t=t,nclones=nclones,figfile='example-K14X40T-bf-and-clones-aei.png')"
   ]
  },
  {
   "cell_type": "code",
   "execution_count": null,
   "id": "37c72aa3",
   "metadata": {},
   "outputs": [],
   "source": [
    "#Advanced options on that plotting call:\n",
    "#you can make the point sizes bigger or smaller\n",
    "#bfps controls the best-fit\n",
    "#cps controls the clones\n",
    "sbd.plot_aei(sbody=sbody,a=a,e=e,inc=inc,t=t,nclones=nclones,bfps=2,cps=0.5)"
   ]
  },
  {
   "cell_type": "code",
   "execution_count": null,
   "id": "7222671c",
   "metadata": {},
   "outputs": [],
   "source": []
  }
 ],
 "metadata": {
  "kernelspec": {
   "display_name": "Python 3 (ipykernel)",
   "language": "python",
   "name": "python3"
  },
  "language_info": {
   "codemirror_mode": {
    "name": "ipython",
    "version": 3
   },
   "file_extension": ".py",
   "mimetype": "text/x-python",
   "name": "python",
   "nbconvert_exporter": "python",
   "pygments_lexer": "ipython3",
   "version": "3.11.6"
  }
 },
 "nbformat": 4,
 "nbformat_minor": 5
}
