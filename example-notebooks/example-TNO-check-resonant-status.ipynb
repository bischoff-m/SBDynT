{
 "cells": [
  {
   "cell_type": "code",
   "execution_count": null,
   "id": "e2edb8d7",
   "metadata": {},
   "outputs": [],
   "source": [
    "import rebound\n",
    "import sys\n",
    "#update next line to path where you installed SBDynT:\n",
    "sys.path.insert(0, '/Users/kvolk/Documents/GitHub/SBDynT/src')\n",
    "import sbdynt as sbd\n",
    "\n",
    "%matplotlib inline"
   ]
  },
  {
   "cell_type": "code",
   "execution_count": null,
   "id": "53b5afbf",
   "metadata": {},
   "outputs": [],
   "source": [
    "#we will pull the orbit fit for TNO 225088 (Gonggong) and generate 10 clones\n",
    "sbody = '225088'\n",
    "nclones = 10\n",
    "#Gonggong is currently in the 10:3 MMR, and we will plot that resonant argument later using these variables:\n",
    "res_p = 10\n",
    "res_q = 3\n",
    "#run an initial simulation to 10 Myr outputting every 500 years\n",
    "tmax = 1e7\n",
    "tout = 2e3\n",
    "#save it to a rebound simulation archive file:\n",
    "archivefile = sbody+\"-archive.bin\""
   ]
  },
  {
   "cell_type": "code",
   "execution_count": null,
   "id": "33a92626",
   "metadata": {},
   "outputs": [],
   "source": [
    "#set up an empty simulation\n",
    "sim= rebound.Simulation()\n",
    "\n",
    "#initialize the 4 giant planets and the TNO+clones\n",
    "flag, epoch, sim = sbd.initialize_simulation(planets=['Jupiter','Saturn','Uranus','Neptune'],\n",
    "                                                 des=sbody,clones=nclones)\n",
    "\n",
    "#run the simulation, creating a new simulation archive (deleting the file if it already exists!)\n",
    "flag, sim = sbd.run_simulation(sim, tmax=tmax, tout=tout,filename=archivefile,deletefile=True)"
   ]
  },
  {
   "cell_type": "code",
   "execution_count": null,
   "id": "020e13d1",
   "metadata": {},
   "outputs": [],
   "source": [
    "#read and plot the results (a pre-computed example is included in the repository!\n",
    "#when you run this, it won't match exactly since different clones will be generated, \n",
    "#but barring a major orbit-fit update since November 2023, it should look similar!)\n",
    "(flag, a, e, inc, node, aperi, ma, phi, t,res_str) = sbd.read_sa_for_resonance(\n",
    "                            sbody=sbody,\n",
    "                            archivefile=archivefile,planet='neptune',\n",
    "                            p=10,q=3,nclones=nclones)\n",
    "flag = sbd.plot_resonance(\n",
    "                            sbody=sbody,\n",
    "                            res_string=res_str,\n",
    "                            a=a,e=e,inc=inc,phi=phi,t=t,nclones=nclones,\n",
    "                            figfile='10Myr-example-resonance-plot.png')"
   ]
  },
  {
   "cell_type": "code",
   "execution_count": null,
   "id": "4891901b",
   "metadata": {},
   "outputs": [],
   "source": [
    "#see what fraction of time each clone is librating based 1 Myr windows\n",
    "##THIS IS NOT A SUPER WELL-TESTED ROUTINE! So use at your own risk, it's just here as an example\n",
    "flag,a_stats, e_stats, i_stats, phi_stats, fwindows = sbd.analyze_res(\n",
    "                        tmin=0.,tmax=tmax,dtwindow = 1e6,\n",
    "                        a=a, e=e, inc=inc, phi=phi, t=t,nclones=10)\n",
    "for i in range(0,nclones+1):\n",
    "    print(\"Clone %d had average a, e, i: %0.2f au, %0.3f, %0.3f rad \" % (i, a_stats[i,0], e_stats[i,0], i_stats[i,0]) )\n",
    "    print(\"     average delta phi: %0.3f rad\" %  phi_stats[i,2])\n",
    "    print(\"     and librated %.1f%% of the timespan\" % (100*fwindows[i]))\n"
   ]
  },
  {
   "cell_type": "code",
   "execution_count": null,
   "id": "fd810940",
   "metadata": {},
   "outputs": [],
   "source": [
    "#run the simulation longer, saving less frequently (*not* deleting the file if it already exists!)\n",
    "#(This takes a little while to run!)\n",
    "tmax = 1e8\n",
    "tout = 1e4\n",
    "flag, sim = sbd.run_simulation(sim, tmax=tmax, tout=tout,filename=archivefile,deletefile=False)"
   ]
  },
  {
   "cell_type": "code",
   "execution_count": null,
   "id": "d04d6b82",
   "metadata": {},
   "outputs": [],
   "source": [
    "#read and plot the results with the added time (a pre-computed example is included in the repository!\n",
    "#when you run this, it won't match exactly since different clones will be generated, \n",
    "#but barring a major orbit-fit update since November 2023, it should look similar!)\n",
    "(flag, a, e, inc, phi, t,res_str) = sbd.read_sa_for_resonance(\n",
    "                            sbody=sbody,\n",
    "                            archivefile=archivefile,planet='neptune',\n",
    "                            p=10,q=3,nclones=nclones)\n",
    "flag = sbd.plot_resonance(\n",
    "                            sbody=sbody,\n",
    "                            res_string=res_str,\n",
    "                            a=a,e=e,inc=inc,phi=phi,t=t,nclones=nclones,\n",
    "                            figfile='100Myr-example-resonance-plot.png')"
   ]
  },
  {
   "cell_type": "code",
   "execution_count": null,
   "id": "c9f19b0c",
   "metadata": {},
   "outputs": [],
   "source": [
    "#see what fraction of time each clone is librating based 5 Myr windows\n",
    "##THIS IS NOT A SUPER WELL-TESTED ROUTINE! So use at your own risk, it's just here as an example\n",
    "flag,a_stats, e_stats, i_stats, phi_stats, fwindows = sbd.analyze_res(\n",
    "                        tmin=0.,tmax=1e8,dtwindow = 5e6,\n",
    "                        a=a, e=e, inc=inc, phi=phi, t=t,nclones=10)\n",
    "for i in range(0,nclones+1):\n",
    "    print(\"Clone %d had average a, e, i: %0.2f au, %0.3f, %0.3f rad \" % (i, a_stats[i,0], e_stats[i,0], i_stats[i,0]) )\n",
    "    print(\"     average delta phi: %0.3f rad\" %  phi_stats[i,2])\n",
    "    print(\"     and librated %.1f%% of the timespan\" % (100*fwindows[i]))\n"
   ]
  },
  {
   "cell_type": "code",
   "execution_count": null,
   "id": "235908a9",
   "metadata": {},
   "outputs": [],
   "source": []
  }
 ],
 "metadata": {
  "kernelspec": {
   "display_name": "Python 3 (ipykernel)",
   "language": "python",
   "name": "python3"
  },
  "language_info": {
   "codemirror_mode": {
    "name": "ipython",
    "version": 3
   },
   "file_extension": ".py",
   "mimetype": "text/x-python",
   "name": "python",
   "nbconvert_exporter": "python",
   "pygments_lexer": "ipython3",
   "version": "3.11.6"
  }
 },
 "nbformat": 4,
 "nbformat_minor": 5
}
