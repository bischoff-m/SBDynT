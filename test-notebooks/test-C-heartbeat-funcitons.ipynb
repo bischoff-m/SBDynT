{
 "cells": [
  {
   "cell_type": "code",
   "execution_count": 1,
   "id": "e2edb8d7",
   "metadata": {},
   "outputs": [],
   "source": [
    "import sys\n",
    "sys.path.insert(0, '/Users/kvolk/Documents/GitHub/SBDynT/src')\n",
    "import run_reb\n",
    "import rebound"
   ]
  },
  {
   "cell_type": "code",
   "execution_count": 2,
   "id": "33a92626",
   "metadata": {},
   "outputs": [
    {
     "name": "stdout",
     "output_type": "stream",
     "text": [
      "---------------------------------\n",
      "REBOUND version:     \t3.18.1\n",
      "REBOUND built on:    \tNov 17 2021 17:42:41\n",
      "Number of particles: \t6\n",
      "Selected integrator: \tias15\n",
      "Simulation time:     \t0.0000000000000000e+00\n",
      "Current timestep:    \t0.400000\n",
      "---------------------------------\n",
      "<rebound.particle.Particle object at 0x7fe672ba36c0, m=1.000005976998622 x=0.002340617424644191 y=-0.0014152397687553502 z=-0.00012501986623936748 vx=0.001734401756226989 vy=0.0016322967232723568 vz=-4.198627068711419e-05>\n",
      "<rebound.particle.Particle object at 0x7fe672ba3840, m=0.0009547919099366768 x=-3.0514249676537077 y=4.308543584549849 z=0.05030850421105279 vx=-2.282333543614448 vy=-1.4629772141077269 vz=0.05715024674254468>\n",
      "<rebound.particle.Particle object at 0x7fe672ba36c0, m=0.0002858856700231729 x=-5.897744007453393 y=-7.9832895127788674 z=0.3735293619275457 vx=1.5276913442596887 vy=-1.216334907497482 vz=-0.039648619548463146>\n",
      "<rebound.particle.Particle object at 0x7fe672ba3840, m=4.3662496132004074e-05 x=19.423843652566624 y=4.833887162881915 z=-0.23369022705827086 vx=-0.3574276706685971 vy=1.3270907395097666 vz=0.009561262666315993>\n",
      "<rebound.particle.Particle object at 0x7fe672ba36c0, m=5.151383772628657e-05 x=27.387426747870414 y=-12.176647409406776 z=-0.38041686421973947 vx=0.4581798263109899 vy=1.054492483254484 vz=-0.032274202508131254>\n",
      "<rebound.particle.Particle object at 0x7fe672ba3840, m=0.0 x=12.72761871574127 y=8.603125701559593 z=4.835509594339967 vx=-1.1783971331680334 vy=1.0413704018700265 vz=0.19665554747083155>\n",
      "---------------------------------\n"
     ]
    }
   ],
   "source": [
    "sim= rebound.Simulation()\n",
    "flag, epoch, sim = run_reb.initialize_simulation(des='54598',clones=0)\n",
    "sim.status()\n",
    "\n"
   ]
  },
  {
   "cell_type": "code",
   "execution_count": 3,
   "id": "2dc2ceaf",
   "metadata": {},
   "outputs": [],
   "source": [
    "sim = run_reb.run_simulation(sim, tmax=20, tout=1,filename=\"archive.bin\",deletefile=True,mindist=20.)"
   ]
  },
  {
   "cell_type": "code",
   "execution_count": 4,
   "id": "5b1bb8a2",
   "metadata": {},
   "outputs": [
    {
     "name": "stdout",
     "output_type": "stream",
     "text": [
      "---------------------------------\n",
      "REBOUND version:     \t3.18.1\n",
      "REBOUND built on:    \tNov 17 2021 17:42:41\n",
      "Number of particles: \t5\n",
      "Selected integrator: \tmercurius\n",
      "Simulation time:     \t2.0000000000000000e+01\n",
      "Current timestep:    \t0.400000\n",
      "---------------------------------\n",
      "<rebound.particle.Particle object at 0x7fe672bd8140, m=1.000005976998622 x=-0.004889876457420761 y=-0.004178489164514225 z=0.0001414820792947731 vx=0.0009531099913103035 vy=-0.00252389633006392 vz=-2.2343989614909035e-05>\n",
      "<rebound.particle.Particle object at 0x7fe672bd8840, m=0.0009547919099366768 x=4.91949449448669 y=0.53344826835423 z=-0.11226152557922937 vx=-0.3314092264219757 vy=2.86868595354689 vz=-0.0045203553072596485>\n",
      "<rebound.particle.Particle object at 0x7fe672bd8140, m=0.0002858856700231729 x=-4.031091744408757 y=8.108295491202712 z=0.01949996344521248 vx=-1.9347724768266599 vy=-0.911596625086456 vz=0.09288569646977195>\n",
      "<rebound.particle.Particle object at 0x7fe672bd8840, m=4.3662496132004074e-05 x=-2.201862772056794 y=18.776261575166 z=0.09821270036864158 vx=-1.4373988675560274 vy=-0.23468843242724402 vz=0.017738692067102976>\n",
      "<rebound.particle.Particle object at 0x7fe672bd8140, m=5.151383772628657e-05 x=27.980488205783487 y=10.314085188516383 z=-0.8572356909676874 vx=-0.403866074142679 vy=1.0826754903485145 vz=-0.012988418875655456>\n",
      "---------------------------------\n"
     ]
    }
   ],
   "source": [
    "sim.status()\n"
   ]
  },
  {
   "cell_type": "code",
   "execution_count": null,
   "id": "419b711d",
   "metadata": {},
   "outputs": [],
   "source": [
    "print(sim.particles['54598_bf'])\n",
    "print(epoch+365.25)\n",
    "print(sim.particles['jupiter'].x - sim.particles['sun'].x)\n",
    "print(sim.particles['jupiter'].y - sim.particles['sun'].y)\n",
    "print(sim.particles['jupiter'].z - sim.particles['sun'].z)"
   ]
  },
  {
   "cell_type": "code",
   "execution_count": null,
   "id": "33231dae",
   "metadata": {},
   "outputs": [],
   "source": [
    "print(epoch)\n",
    " X =-3.053765585078352E+00 Y = 4.309958824318604E+00 Z = 5.043352407729216E-02\n",
    "    -3.053765585078352\n",
    " VX=-6.253437222096304E-03 VY=-4.009882302069813E-03 VZ= 1.565838001731192E-04\n",
    "\n",
    " X =-4.848555689458333E+00 Y = 2.354955182362264E+00 Z = 9.871311106261417E-02\n",
    "    -4.8485641341811645        2.354960906322191         9.871363073985731\n",
    " VX=-3.389860589040395E-03 VY=-6.437608109702483E-03 VZ= 1.025870739235137E-04"
   ]
  },
  {
   "cell_type": "code",
   "execution_count": null,
   "id": "10a9e3ee",
   "metadata": {},
   "outputs": [],
   "source": [
    "sim.integrate(1.)\n",
    "sim.move_to_com\n",
    "sim.status()"
   ]
  },
  {
   "cell_type": "code",
   "execution_count": null,
   "id": "13045042",
   "metadata": {},
   "outputs": [],
   "source": [
    "print(sim.particles['jupiter'].x - sim.particles['sun'].x)\n",
    "print(sim.particles['jupiter'].y - sim.particles['sun'].y)\n",
    "print(sim.particles['jupiter'].z - sim.particles['sun'].z)"
   ]
  },
  {
   "cell_type": "code",
   "execution_count": null,
   "id": "55c27b86",
   "metadata": {},
   "outputs": [],
   "source": [
    "import numpy as np\n",
    "sim.integrator = \"whfast\"\n",
    "sim.dt = 0.2\n",
    "times = np.arange(0,1e7,1e4)\n",
    "ej = np.arange(0,1e7,1e4)\n",
    "es = np.arange(0,1e7,1e4)\n",
    "eu = np.arange(0,1e7,1e4)\n",
    "en = np.arange(0,1e7,1e4)\n",
    "ij = np.arange(0,1e7,1e4)\n",
    "isa = np.arange(0,1e7,1e4)\n",
    "iu = np.arange(0,1e7,1e4)\n",
    "ine = np.arange(0,1e7,1e4)\n",
    "\n",
    "for i,t in enumerate(times):\n",
    "    sim.integrate(t)\n",
    "    ej[i] = sim.particles['jupiter'].e\n",
    "    es[i] = sim.particles['saturn'].e\n",
    "    eu[i] = sim.particles['uranus'].e\n",
    "    en[i] = sim.particles['neptune'].e\n",
    "    ij[i] = sim.particles['jupiter'].inc*np.pi/180.\n",
    "    isa[i] = sim.particles['saturn'].inc*np.pi/180.\n",
    "    iu[i] = sim.particles['uranus'].inc*np.pi/180.\n",
    "    ine[i] = sim.particles['neptune'].inc*np.pi/180."
   ]
  },
  {
   "cell_type": "code",
   "execution_count": null,
   "id": "caa08e38",
   "metadata": {},
   "outputs": [],
   "source": [
    "import matplotlib.pyplot as plt\n",
    "%matplotlib inline\n",
    "\n",
    "plt.scatter(times,ej)"
   ]
  },
  {
   "cell_type": "code",
   "execution_count": null,
   "id": "92091717",
   "metadata": {},
   "outputs": [],
   "source": [
    "plt.scatter(times,es)"
   ]
  },
  {
   "cell_type": "code",
   "execution_count": null,
   "id": "4cb24959",
   "metadata": {},
   "outputs": [],
   "source": [
    "plt.scatter(times,eu)"
   ]
  },
  {
   "cell_type": "code",
   "execution_count": null,
   "id": "817bfe76",
   "metadata": {},
   "outputs": [],
   "source": [
    "plt.scatter(times,en)"
   ]
  },
  {
   "cell_type": "code",
   "execution_count": null,
   "id": "68080934",
   "metadata": {},
   "outputs": [],
   "source": [
    "plt.scatter(times,ij)"
   ]
  },
  {
   "cell_type": "code",
   "execution_count": null,
   "id": "49f167e6",
   "metadata": {},
   "outputs": [],
   "source": [
    "plt.scatter(times,isa)"
   ]
  },
  {
   "cell_type": "code",
   "execution_count": null,
   "id": "0397bb32",
   "metadata": {},
   "outputs": [],
   "source": [
    "plt.scatter(times,iu)"
   ]
  },
  {
   "cell_type": "code",
   "execution_count": null,
   "id": "54bf06f6",
   "metadata": {},
   "outputs": [],
   "source": [
    "plt.scatter(times,ine)"
   ]
  },
  {
   "cell_type": "code",
   "execution_count": null,
   "id": "85a4a839",
   "metadata": {},
   "outputs": [],
   "source": []
  },
  {
   "cell_type": "code",
   "execution_count": null,
   "id": "ba2db1a7",
   "metadata": {},
   "outputs": [],
   "source": [
    "from pathlib import Path\n",
    "import os\n",
    "test1 = str(rebound.__libpath__)\n",
    "test2 = str(Path(rebound.__file__).parent / \"rebound.h\")\n",
    "com = 'cp '+test1+ ' librebound.so'\n",
    "os.system(com)\n",
    "com = 'cp '+ test2+ ' rebound.h'\n",
    "os.system(com)"
   ]
  },
  {
   "cell_type": "code",
   "execution_count": null,
   "id": "cd76f206",
   "metadata": {},
   "outputs": [],
   "source": [
    "%%writefile heartbeat.c\n",
    "#include \"rebound.h\"\n",
    "double e =0; // global variable\n",
    "void heartbeat(struct reb_simulation* sim_pointer){\n",
    "    struct reb_orbit orbit = reb_tools_particle_to_orbit(sim_pointer->G, sim_pointer->particles[0], sim_pointer->particles[1]);\n",
    "    e = orbit.e;\n",
    "}"
   ]
  },
  {
   "cell_type": "code",
   "execution_count": null,
   "id": "fa917158",
   "metadata": {},
   "outputs": [],
   "source": [
    "!gcc -c -O3 -fPIC heartbeat.c -o heartbeat.o"
   ]
  },
  {
   "cell_type": "code",
   "execution_count": null,
   "id": "8ee5cebd",
   "metadata": {},
   "outputs": [],
   "source": [
    "!gcc -L. -shared heartbeat.o -o heartbeat.so -lrebound"
   ]
  },
  {
   "cell_type": "code",
   "execution_count": null,
   "id": "3ccf6b8c",
   "metadata": {},
   "outputs": [],
   "source": [
    "from ctypes import cdll\n",
    "clibheartbeat = cdll.LoadLibrary(\"heartbeat.so\")"
   ]
  },
  {
   "cell_type": "code",
   "execution_count": null,
   "id": "815cb491",
   "metadata": {},
   "outputs": [],
   "source": [
    "sim.heartbeat = clibheartbeat.heartbeat"
   ]
  },
  {
   "cell_type": "code",
   "execution_count": null,
   "id": "dc445a5f",
   "metadata": {},
   "outputs": [],
   "source": [
    "sim.integrate(50)"
   ]
  },
  {
   "cell_type": "code",
   "execution_count": null,
   "id": "aa7bc0c5",
   "metadata": {},
   "outputs": [],
   "source": [
    "from ctypes import c_double\n",
    "print(c_double.in_dll(clibheartbeat,\"e\").value)\n",
    "sim.max"
   ]
  },
  {
   "cell_type": "code",
   "execution_count": null,
   "id": "74de0a5a",
   "metadata": {},
   "outputs": [],
   "source": [
    "    heartbeat_file = '''\n",
    "#include \"rebound.h\"\n",
    "void heartbeat(struct reb_simulation* r){\n",
    "\tint N = r->N;\n",
    "\tfor (int i=N-1;i>=r->N_active;i+=-1){\n",
    "        double rh = r->particles[i].x*r->particles[i].x;\n",
    "        rh+= r->particles[i].y*r->particles[i].y;\n",
    "        rh+=r->particles[i].z*r->particles[i].z;\n",
    "        rh = sqrt(rh);\n",
    "        if(rh > '''+str(maxdist)+''' || rh < '''+str(mindist)+'''){\n",
    "            reb_remove(r, i, 1);\n",
    "        }\n",
    "    }\n",
    "}\n",
    "'''\n",
    "\n",
    "    with open('heartbeat.c', mode='a') as file:\n",
    "        file.write(heartbeat_file)\n"
   ]
  },
  {
   "cell_type": "code",
   "execution_count": null,
   "id": "3b574ef2",
   "metadata": {},
   "outputs": [],
   "source": [
    "maxdist = 1000\n",
    "mindist = 5."
   ]
  },
  {
   "cell_type": "code",
   "execution_count": null,
   "id": "658041fc",
   "metadata": {},
   "outputs": [],
   "source": []
  }
 ],
 "metadata": {
  "kernelspec": {
   "display_name": "Python 3 (ipykernel)",
   "language": "python",
   "name": "python3"
  },
  "language_info": {
   "codemirror_mode": {
    "name": "ipython",
    "version": 3
   },
   "file_extension": ".py",
   "mimetype": "text/x-python",
   "name": "python",
   "nbconvert_exporter": "python",
   "pygments_lexer": "ipython3",
   "version": "3.9.7"
  }
 },
 "nbformat": 4,
 "nbformat_minor": 5
}
