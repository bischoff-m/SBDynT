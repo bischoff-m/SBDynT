{
 "cells": [
  {
   "cell_type": "code",
   "execution_count": 1,
   "id": "0b261269",
   "metadata": {},
   "outputs": [],
   "source": [
    "import sys\n",
    "sys.path.insert(0, '/Users/kvolk/Documents/GitHub/SBDynT/src')\n",
    "import horizons_api"
   ]
  },
  {
   "cell_type": "code",
   "execution_count": 2,
   "id": "d1920519",
   "metadata": {},
   "outputs": [
    {
     "name": "stdout",
     "output_type": "stream",
     "text": [
      "13.17932074511404 0.2020525393502441\n",
      "best fit:  16.516526958281602 0.2020525393502441 0.3622083579312695 5.89729170396269 2.6625372979296915 -1.2465025357667279\n",
      "clones  16.51653029227247 0.20205206772936393 0.3622084329443451 5.89729154372402 2.662536859867709 -1.2465028206457656\n",
      "clones  16.516530346574704 0.20205278617840616 0.362208227762196 5.897291517691193 2.662536866402187 -1.246501501738115\n"
     ]
    },
    {
     "data": {
      "text/plain": [
       "(1,\n",
       " 2456908.5,\n",
       " array([12.7252781 , 12.72527986, 12.72527883]),\n",
       " array([8.60454094, 8.6045435 , 8.60454078]),\n",
       " array([4.83563461, 4.83563738, 4.83563337]),\n",
       " array([-0.18782377, -0.18782368, -0.18782381]),\n",
       " array([0.16547946, 0.16547951, 0.16547945]),\n",
       " array([0.03130538, 0.03130541, 0.03130535]))"
      ]
     },
     "execution_count": 2,
     "metadata": {},
     "output_type": "execute_result"
    }
   ],
   "source": [
    "horizons_api.query_sb_from_jpl(des='54598',clones=2)"
   ]
  },
  {
   "cell_type": "code",
   "execution_count": null,
   "id": "8b409d44",
   "metadata": {},
   "outputs": [],
   "source": []
  }
 ],
 "metadata": {
  "kernelspec": {
   "display_name": "Python 3 (ipykernel)",
   "language": "python",
   "name": "python3"
  },
  "language_info": {
   "codemirror_mode": {
    "name": "ipython",
    "version": 3
   },
   "file_extension": ".py",
   "mimetype": "text/x-python",
   "name": "python",
   "nbconvert_exporter": "python",
   "pygments_lexer": "ipython3",
   "version": "3.9.7"
  }
 },
 "nbformat": 4,
 "nbformat_minor": 5
}
